{
 "cells": [
  {
   "cell_type": "code",
   "execution_count": 1,
   "id": "830be031",
   "metadata": {
    "_cell_guid": "b1076dfc-b9ad-4769-8c92-a6c4dae69d19",
    "_uuid": "8f2839f25d086af736a60e9eeb907d3b93b6e0e5",
    "execution": {
     "iopub.execute_input": "2023-01-12T18:59:45.486134Z",
     "iopub.status.busy": "2023-01-12T18:59:45.485585Z",
     "iopub.status.idle": "2023-01-12T18:59:45.501256Z",
     "shell.execute_reply": "2023-01-12T18:59:45.499982Z"
    },
    "papermill": {
     "duration": 0.026746,
     "end_time": "2023-01-12T18:59:45.504315",
     "exception": false,
     "start_time": "2023-01-12T18:59:45.477569",
     "status": "completed"
    },
    "tags": []
   },
   "outputs": [
    {
     "name": "stdout",
     "output_type": "stream",
     "text": [
      "/kaggle/input/playground-series-s3e2/sample_submission.csv\n",
      "/kaggle/input/playground-series-s3e2/train.csv\n",
      "/kaggle/input/playground-series-s3e2/test.csv\n"
     ]
    }
   ],
   "source": [
    "# This Python 3 environment comes with many helpful analytics libraries installed\n",
    "# It is defined by the kaggle/python Docker image: https://github.com/kaggle/docker-python\n",
    "# For example, here's several helpful packages to load\n",
    "\n",
    "import numpy as np # linear algebra\n",
    "import pandas as pd # data processing, CSV file I/O (e.g. pd.read_csv)\n",
    "\n",
    "# Input data files are available in the read-only \"../input/\" directory\n",
    "# For example, running this (by clicking run or pressing Shift+Enter) will list all files under the input directory\n",
    "\n",
    "import os\n",
    "for dirname, _, filenames in os.walk('/kaggle/input'):\n",
    "    for filename in filenames:\n",
    "        print(os.path.join(dirname, filename))\n",
    "\n",
    "# You can write up to 20GB to the current directory (/kaggle/working/) that gets preserved as output when you create a version using \"Save & Run All\" \n",
    "# You can also write temporary files to /kaggle/temp/, but they won't be saved outside of the current session"
   ]
  },
  {
   "cell_type": "markdown",
   "id": "03a36bec",
   "metadata": {
    "papermill": {
     "duration": 0.004455,
     "end_time": "2023-01-12T18:59:45.514730",
     "exception": false,
     "start_time": "2023-01-12T18:59:45.510275",
     "status": "completed"
    },
    "tags": []
   },
   "source": [
    "importing said test data"
   ]
  },
  {
   "cell_type": "code",
   "execution_count": 2,
   "id": "63b6c39e",
   "metadata": {
    "execution": {
     "iopub.execute_input": "2023-01-12T18:59:45.526178Z",
     "iopub.status.busy": "2023-01-12T18:59:45.525495Z",
     "iopub.status.idle": "2023-01-12T18:59:45.605399Z",
     "shell.execute_reply": "2023-01-12T18:59:45.604129Z"
    },
    "papermill": {
     "duration": 0.08844,
     "end_time": "2023-01-12T18:59:45.607816",
     "exception": false,
     "start_time": "2023-01-12T18:59:45.519376",
     "status": "completed"
    },
    "tags": []
   },
   "outputs": [
    {
     "data": {
      "text/html": [
       "<div>\n",
       "<style scoped>\n",
       "    .dataframe tbody tr th:only-of-type {\n",
       "        vertical-align: middle;\n",
       "    }\n",
       "\n",
       "    .dataframe tbody tr th {\n",
       "        vertical-align: top;\n",
       "    }\n",
       "\n",
       "    .dataframe thead th {\n",
       "        text-align: right;\n",
       "    }\n",
       "</style>\n",
       "<table border=\"1\" class=\"dataframe\">\n",
       "  <thead>\n",
       "    <tr style=\"text-align: right;\">\n",
       "      <th></th>\n",
       "      <th>id</th>\n",
       "      <th>gender</th>\n",
       "      <th>age</th>\n",
       "      <th>hypertension</th>\n",
       "      <th>heart_disease</th>\n",
       "      <th>ever_married</th>\n",
       "      <th>work_type</th>\n",
       "      <th>Residence_type</th>\n",
       "      <th>avg_glucose_level</th>\n",
       "      <th>bmi</th>\n",
       "      <th>smoking_status</th>\n",
       "      <th>stroke</th>\n",
       "    </tr>\n",
       "  </thead>\n",
       "  <tbody>\n",
       "    <tr>\n",
       "      <th>0</th>\n",
       "      <td>0</td>\n",
       "      <td>Male</td>\n",
       "      <td>28.0</td>\n",
       "      <td>0</td>\n",
       "      <td>0</td>\n",
       "      <td>Yes</td>\n",
       "      <td>Private</td>\n",
       "      <td>Urban</td>\n",
       "      <td>79.53</td>\n",
       "      <td>31.1</td>\n",
       "      <td>never smoked</td>\n",
       "      <td>0</td>\n",
       "    </tr>\n",
       "    <tr>\n",
       "      <th>1</th>\n",
       "      <td>1</td>\n",
       "      <td>Male</td>\n",
       "      <td>33.0</td>\n",
       "      <td>0</td>\n",
       "      <td>0</td>\n",
       "      <td>Yes</td>\n",
       "      <td>Private</td>\n",
       "      <td>Rural</td>\n",
       "      <td>78.44</td>\n",
       "      <td>23.9</td>\n",
       "      <td>formerly smoked</td>\n",
       "      <td>0</td>\n",
       "    </tr>\n",
       "    <tr>\n",
       "      <th>2</th>\n",
       "      <td>2</td>\n",
       "      <td>Female</td>\n",
       "      <td>42.0</td>\n",
       "      <td>0</td>\n",
       "      <td>0</td>\n",
       "      <td>Yes</td>\n",
       "      <td>Private</td>\n",
       "      <td>Rural</td>\n",
       "      <td>103.00</td>\n",
       "      <td>40.3</td>\n",
       "      <td>Unknown</td>\n",
       "      <td>0</td>\n",
       "    </tr>\n",
       "    <tr>\n",
       "      <th>3</th>\n",
       "      <td>3</td>\n",
       "      <td>Male</td>\n",
       "      <td>56.0</td>\n",
       "      <td>0</td>\n",
       "      <td>0</td>\n",
       "      <td>Yes</td>\n",
       "      <td>Private</td>\n",
       "      <td>Urban</td>\n",
       "      <td>64.87</td>\n",
       "      <td>28.8</td>\n",
       "      <td>never smoked</td>\n",
       "      <td>0</td>\n",
       "    </tr>\n",
       "    <tr>\n",
       "      <th>4</th>\n",
       "      <td>4</td>\n",
       "      <td>Female</td>\n",
       "      <td>24.0</td>\n",
       "      <td>0</td>\n",
       "      <td>0</td>\n",
       "      <td>No</td>\n",
       "      <td>Private</td>\n",
       "      <td>Rural</td>\n",
       "      <td>73.36</td>\n",
       "      <td>28.8</td>\n",
       "      <td>never smoked</td>\n",
       "      <td>0</td>\n",
       "    </tr>\n",
       "  </tbody>\n",
       "</table>\n",
       "</div>"
      ],
      "text/plain": [
       "   id  gender   age  hypertension  heart_disease ever_married work_type  \\\n",
       "0   0    Male  28.0             0              0          Yes   Private   \n",
       "1   1    Male  33.0             0              0          Yes   Private   \n",
       "2   2  Female  42.0             0              0          Yes   Private   \n",
       "3   3    Male  56.0             0              0          Yes   Private   \n",
       "4   4  Female  24.0             0              0           No   Private   \n",
       "\n",
       "  Residence_type  avg_glucose_level   bmi   smoking_status  stroke  \n",
       "0          Urban              79.53  31.1     never smoked       0  \n",
       "1          Rural              78.44  23.9  formerly smoked       0  \n",
       "2          Rural             103.00  40.3          Unknown       0  \n",
       "3          Urban              64.87  28.8     never smoked       0  \n",
       "4          Rural              73.36  28.8     never smoked       0  "
      ]
     },
     "execution_count": 2,
     "metadata": {},
     "output_type": "execute_result"
    }
   ],
   "source": [
    "train_data=pd.read_csv('/kaggle/input/playground-series-s3e2/train.csv')\n",
    "train_data.head()"
   ]
  },
  {
   "cell_type": "code",
   "execution_count": 3,
   "id": "9041bc1b",
   "metadata": {
    "execution": {
     "iopub.execute_input": "2023-01-12T18:59:45.620079Z",
     "iopub.status.busy": "2023-01-12T18:59:45.619388Z",
     "iopub.status.idle": "2023-01-12T18:59:45.633255Z",
     "shell.execute_reply": "2023-01-12T18:59:45.632036Z"
    },
    "papermill": {
     "duration": 0.023341,
     "end_time": "2023-01-12T18:59:45.636142",
     "exception": false,
     "start_time": "2023-01-12T18:59:45.612801",
     "status": "completed"
    },
    "tags": []
   },
   "outputs": [],
   "source": [
    "X_cat=train_data.select_dtypes(include='object')"
   ]
  },
  {
   "cell_type": "code",
   "execution_count": 4,
   "id": "c2ff2bba",
   "metadata": {
    "execution": {
     "iopub.execute_input": "2023-01-12T18:59:45.648047Z",
     "iopub.status.busy": "2023-01-12T18:59:45.647404Z",
     "iopub.status.idle": "2023-01-12T18:59:45.662130Z",
     "shell.execute_reply": "2023-01-12T18:59:45.660867Z"
    },
    "papermill": {
     "duration": 0.024166,
     "end_time": "2023-01-12T18:59:45.665247",
     "exception": false,
     "start_time": "2023-01-12T18:59:45.641081",
     "status": "completed"
    },
    "tags": []
   },
   "outputs": [
    {
     "data": {
      "text/html": [
       "<div>\n",
       "<style scoped>\n",
       "    .dataframe tbody tr th:only-of-type {\n",
       "        vertical-align: middle;\n",
       "    }\n",
       "\n",
       "    .dataframe tbody tr th {\n",
       "        vertical-align: top;\n",
       "    }\n",
       "\n",
       "    .dataframe thead th {\n",
       "        text-align: right;\n",
       "    }\n",
       "</style>\n",
       "<table border=\"1\" class=\"dataframe\">\n",
       "  <thead>\n",
       "    <tr style=\"text-align: right;\">\n",
       "      <th></th>\n",
       "      <th>gender</th>\n",
       "      <th>ever_married</th>\n",
       "      <th>work_type</th>\n",
       "      <th>Residence_type</th>\n",
       "      <th>smoking_status</th>\n",
       "    </tr>\n",
       "  </thead>\n",
       "  <tbody>\n",
       "    <tr>\n",
       "      <th>0</th>\n",
       "      <td>Male</td>\n",
       "      <td>Yes</td>\n",
       "      <td>Private</td>\n",
       "      <td>Urban</td>\n",
       "      <td>never smoked</td>\n",
       "    </tr>\n",
       "    <tr>\n",
       "      <th>1</th>\n",
       "      <td>Male</td>\n",
       "      <td>Yes</td>\n",
       "      <td>Private</td>\n",
       "      <td>Rural</td>\n",
       "      <td>formerly smoked</td>\n",
       "    </tr>\n",
       "    <tr>\n",
       "      <th>2</th>\n",
       "      <td>Female</td>\n",
       "      <td>Yes</td>\n",
       "      <td>Private</td>\n",
       "      <td>Rural</td>\n",
       "      <td>Unknown</td>\n",
       "    </tr>\n",
       "    <tr>\n",
       "      <th>3</th>\n",
       "      <td>Male</td>\n",
       "      <td>Yes</td>\n",
       "      <td>Private</td>\n",
       "      <td>Urban</td>\n",
       "      <td>never smoked</td>\n",
       "    </tr>\n",
       "    <tr>\n",
       "      <th>4</th>\n",
       "      <td>Female</td>\n",
       "      <td>No</td>\n",
       "      <td>Private</td>\n",
       "      <td>Rural</td>\n",
       "      <td>never smoked</td>\n",
       "    </tr>\n",
       "  </tbody>\n",
       "</table>\n",
       "</div>"
      ],
      "text/plain": [
       "   gender ever_married work_type Residence_type   smoking_status\n",
       "0    Male          Yes   Private          Urban     never smoked\n",
       "1    Male          Yes   Private          Rural  formerly smoked\n",
       "2  Female          Yes   Private          Rural          Unknown\n",
       "3    Male          Yes   Private          Urban     never smoked\n",
       "4  Female           No   Private          Rural     never smoked"
      ]
     },
     "execution_count": 4,
     "metadata": {},
     "output_type": "execute_result"
    }
   ],
   "source": [
    "X_cat.head()"
   ]
  },
  {
   "cell_type": "code",
   "execution_count": 5,
   "id": "cf2c8691",
   "metadata": {
    "execution": {
     "iopub.execute_input": "2023-01-12T18:59:45.678585Z",
     "iopub.status.busy": "2023-01-12T18:59:45.677750Z",
     "iopub.status.idle": "2023-01-12T18:59:45.701365Z",
     "shell.execute_reply": "2023-01-12T18:59:45.700151Z"
    },
    "papermill": {
     "duration": 0.034008,
     "end_time": "2023-01-12T18:59:45.704519",
     "exception": false,
     "start_time": "2023-01-12T18:59:45.670511",
     "status": "completed"
    },
    "tags": []
   },
   "outputs": [],
   "source": [
    "X_cat_hot=pd.get_dummies(X_cat)\n"
   ]
  },
  {
   "cell_type": "code",
   "execution_count": null,
   "id": "511666f4",
   "metadata": {
    "papermill": {
     "duration": 0.004841,
     "end_time": "2023-01-12T18:59:45.714947",
     "exception": false,
     "start_time": "2023-01-12T18:59:45.710106",
     "status": "completed"
    },
    "tags": []
   },
   "outputs": [],
   "source": []
  },
  {
   "cell_type": "code",
   "execution_count": 6,
   "id": "23a43b4f",
   "metadata": {
    "execution": {
     "iopub.execute_input": "2023-01-12T18:59:45.727058Z",
     "iopub.status.busy": "2023-01-12T18:59:45.726675Z",
     "iopub.status.idle": "2023-01-12T18:59:45.741840Z",
     "shell.execute_reply": "2023-01-12T18:59:45.740529Z"
    },
    "papermill": {
     "duration": 0.024389,
     "end_time": "2023-01-12T18:59:45.744431",
     "exception": false,
     "start_time": "2023-01-12T18:59:45.720042",
     "status": "completed"
    },
    "tags": []
   },
   "outputs": [],
   "source": [
    "num=['age','bmi','avg_glucose_level']\n",
    "X_num=train_data[num]\n",
    "X_train_final=pd.concat([X_num,X_cat_hot],axis=0)"
   ]
  },
  {
   "cell_type": "markdown",
   "id": "aa6abd4a",
   "metadata": {
    "papermill": {
     "duration": 0.004983,
     "end_time": "2023-01-12T18:59:45.754732",
     "exception": false,
     "start_time": "2023-01-12T18:59:45.749749",
     "status": "completed"
    },
    "tags": []
   },
   "source": [
    "lets take out target feature now"
   ]
  },
  {
   "cell_type": "code",
   "execution_count": 7,
   "id": "67da288c",
   "metadata": {
    "execution": {
     "iopub.execute_input": "2023-01-12T18:59:45.767334Z",
     "iopub.status.busy": "2023-01-12T18:59:45.766604Z",
     "iopub.status.idle": "2023-01-12T18:59:45.777012Z",
     "shell.execute_reply": "2023-01-12T18:59:45.775759Z"
    },
    "papermill": {
     "duration": 0.019806,
     "end_time": "2023-01-12T18:59:45.779724",
     "exception": false,
     "start_time": "2023-01-12T18:59:45.759918",
     "status": "completed"
    },
    "tags": []
   },
   "outputs": [
    {
     "data": {
      "text/plain": [
       "0    0\n",
       "1    0\n",
       "2    0\n",
       "3    0\n",
       "4    0\n",
       "Name: stroke, dtype: int64"
      ]
     },
     "execution_count": 7,
     "metadata": {},
     "output_type": "execute_result"
    }
   ],
   "source": [
    "X=train_data.copy()\n",
    "y_train=X.pop('stroke')\n",
    "y_train.head()"
   ]
  },
  {
   "cell_type": "markdown",
   "id": "78845868",
   "metadata": {
    "papermill": {
     "duration": 0.005051,
     "end_time": "2023-01-12T18:59:45.790173",
     "exception": false,
     "start_time": "2023-01-12T18:59:45.785122",
     "status": "completed"
    },
    "tags": []
   },
   "source": [
    "X_train"
   ]
  },
  {
   "cell_type": "code",
   "execution_count": 8,
   "id": "0c361cad",
   "metadata": {
    "execution": {
     "iopub.execute_input": "2023-01-12T18:59:45.802808Z",
     "iopub.status.busy": "2023-01-12T18:59:45.802388Z",
     "iopub.status.idle": "2023-01-12T18:59:54.927781Z",
     "shell.execute_reply": "2023-01-12T18:59:54.926608Z"
    },
    "papermill": {
     "duration": 9.134478,
     "end_time": "2023-01-12T18:59:54.930260",
     "exception": false,
     "start_time": "2023-01-12T18:59:45.795782",
     "status": "completed"
    },
    "tags": []
   },
   "outputs": [
    {
     "data": {
      "text/plain": [
       "XGBRegressor(base_score=0.5, booster='gbtree', callbacks=None,\n",
       "             colsample_bylevel=1, colsample_bynode=1, colsample_bytree=1,\n",
       "             early_stopping_rounds=None, enable_categorical=False,\n",
       "             eval_metric=None, gamma=0, gpu_id=-1, grow_policy='depthwise',\n",
       "             importance_type=None, interaction_constraints='',\n",
       "             learning_rate=0.01, max_bin=256, max_cat_to_onehot=4,\n",
       "             max_delta_step=0, max_depth=6, max_leaves=0, min_child_weight=1,\n",
       "             missing=nan, monotone_constraints='()', n_estimators=1000,\n",
       "             n_jobs=0, num_parallel_tree=1, predictor='auto', random_state=0,\n",
       "             reg_alpha=0, reg_lambda=1, ...)"
      ]
     },
     "execution_count": 8,
     "metadata": {},
     "output_type": "execute_result"
    }
   ],
   "source": [
    "from xgboost import XGBRegressor\n",
    "model=XGBRegressor(max_depth=6,learning_rate=0.01,n_estimators=1000)\n",
    "model.fit(X_num,y_train)"
   ]
  },
  {
   "cell_type": "markdown",
   "id": "eb953622",
   "metadata": {
    "papermill": {
     "duration": 0.005011,
     "end_time": "2023-01-12T18:59:54.940780",
     "exception": false,
     "start_time": "2023-01-12T18:59:54.935769",
     "status": "completed"
    },
    "tags": []
   },
   "source": [
    "import test data"
   ]
  },
  {
   "cell_type": "code",
   "execution_count": 9,
   "id": "20fba60f",
   "metadata": {
    "execution": {
     "iopub.execute_input": "2023-01-12T18:59:54.953080Z",
     "iopub.status.busy": "2023-01-12T18:59:54.952675Z",
     "iopub.status.idle": "2023-01-12T18:59:54.983072Z",
     "shell.execute_reply": "2023-01-12T18:59:54.981790Z"
    },
    "papermill": {
     "duration": 0.039878,
     "end_time": "2023-01-12T18:59:54.985909",
     "exception": false,
     "start_time": "2023-01-12T18:59:54.946031",
     "status": "completed"
    },
    "tags": []
   },
   "outputs": [],
   "source": [
    "X_test=pd.read_csv('/kaggle/input/playground-series-s3e2/test.csv')\n",
    "X_test.head()\n",
    "test_data=X_test.copy()"
   ]
  },
  {
   "cell_type": "code",
   "execution_count": 10,
   "id": "c4cee764",
   "metadata": {
    "execution": {
     "iopub.execute_input": "2023-01-12T18:59:54.998970Z",
     "iopub.status.busy": "2023-01-12T18:59:54.997855Z",
     "iopub.status.idle": "2023-01-12T18:59:55.104519Z",
     "shell.execute_reply": "2023-01-12T18:59:55.103512Z"
    },
    "papermill": {
     "duration": 0.116121,
     "end_time": "2023-01-12T18:59:55.107374",
     "exception": false,
     "start_time": "2023-01-12T18:59:54.991253",
     "status": "completed"
    },
    "tags": []
   },
   "outputs": [],
   "source": [
    "X_test=X_test[num]\n",
    "pred=model.predict(X_test)"
   ]
  },
  {
   "cell_type": "code",
   "execution_count": 11,
   "id": "16070f60",
   "metadata": {
    "execution": {
     "iopub.execute_input": "2023-01-12T18:59:55.122838Z",
     "iopub.status.busy": "2023-01-12T18:59:55.122433Z",
     "iopub.status.idle": "2023-01-12T18:59:55.140161Z",
     "shell.execute_reply": "2023-01-12T18:59:55.138722Z"
    },
    "papermill": {
     "duration": 0.027549,
     "end_time": "2023-01-12T18:59:55.142759",
     "exception": false,
     "start_time": "2023-01-12T18:59:55.115210",
     "status": "completed"
    },
    "tags": []
   },
   "outputs": [
    {
     "data": {
      "text/html": [
       "<div>\n",
       "<style scoped>\n",
       "    .dataframe tbody tr th:only-of-type {\n",
       "        vertical-align: middle;\n",
       "    }\n",
       "\n",
       "    .dataframe tbody tr th {\n",
       "        vertical-align: top;\n",
       "    }\n",
       "\n",
       "    .dataframe thead th {\n",
       "        text-align: right;\n",
       "    }\n",
       "</style>\n",
       "<table border=\"1\" class=\"dataframe\">\n",
       "  <thead>\n",
       "    <tr style=\"text-align: right;\">\n",
       "      <th></th>\n",
       "      <th>id</th>\n",
       "      <th>gender</th>\n",
       "      <th>age</th>\n",
       "      <th>hypertension</th>\n",
       "      <th>heart_disease</th>\n",
       "      <th>ever_married</th>\n",
       "      <th>work_type</th>\n",
       "      <th>Residence_type</th>\n",
       "      <th>avg_glucose_level</th>\n",
       "      <th>bmi</th>\n",
       "      <th>smoking_status</th>\n",
       "    </tr>\n",
       "  </thead>\n",
       "  <tbody>\n",
       "    <tr>\n",
       "      <th>0</th>\n",
       "      <td>15304</td>\n",
       "      <td>Female</td>\n",
       "      <td>57.0</td>\n",
       "      <td>0</td>\n",
       "      <td>0</td>\n",
       "      <td>Yes</td>\n",
       "      <td>Private</td>\n",
       "      <td>Rural</td>\n",
       "      <td>82.54</td>\n",
       "      <td>33.4</td>\n",
       "      <td>Unknown</td>\n",
       "    </tr>\n",
       "    <tr>\n",
       "      <th>1</th>\n",
       "      <td>15305</td>\n",
       "      <td>Male</td>\n",
       "      <td>70.0</td>\n",
       "      <td>1</td>\n",
       "      <td>0</td>\n",
       "      <td>Yes</td>\n",
       "      <td>Private</td>\n",
       "      <td>Urban</td>\n",
       "      <td>72.06</td>\n",
       "      <td>28.5</td>\n",
       "      <td>Unknown</td>\n",
       "    </tr>\n",
       "    <tr>\n",
       "      <th>2</th>\n",
       "      <td>15306</td>\n",
       "      <td>Female</td>\n",
       "      <td>5.0</td>\n",
       "      <td>0</td>\n",
       "      <td>0</td>\n",
       "      <td>No</td>\n",
       "      <td>children</td>\n",
       "      <td>Urban</td>\n",
       "      <td>103.72</td>\n",
       "      <td>19.5</td>\n",
       "      <td>Unknown</td>\n",
       "    </tr>\n",
       "    <tr>\n",
       "      <th>3</th>\n",
       "      <td>15307</td>\n",
       "      <td>Female</td>\n",
       "      <td>56.0</td>\n",
       "      <td>0</td>\n",
       "      <td>0</td>\n",
       "      <td>Yes</td>\n",
       "      <td>Govt_job</td>\n",
       "      <td>Urban</td>\n",
       "      <td>69.24</td>\n",
       "      <td>41.4</td>\n",
       "      <td>smokes</td>\n",
       "    </tr>\n",
       "    <tr>\n",
       "      <th>4</th>\n",
       "      <td>15308</td>\n",
       "      <td>Male</td>\n",
       "      <td>32.0</td>\n",
       "      <td>0</td>\n",
       "      <td>0</td>\n",
       "      <td>Yes</td>\n",
       "      <td>Private</td>\n",
       "      <td>Rural</td>\n",
       "      <td>111.15</td>\n",
       "      <td>30.1</td>\n",
       "      <td>smokes</td>\n",
       "    </tr>\n",
       "  </tbody>\n",
       "</table>\n",
       "</div>"
      ],
      "text/plain": [
       "      id  gender   age  hypertension  heart_disease ever_married work_type  \\\n",
       "0  15304  Female  57.0             0              0          Yes   Private   \n",
       "1  15305    Male  70.0             1              0          Yes   Private   \n",
       "2  15306  Female   5.0             0              0           No  children   \n",
       "3  15307  Female  56.0             0              0          Yes  Govt_job   \n",
       "4  15308    Male  32.0             0              0          Yes   Private   \n",
       "\n",
       "  Residence_type  avg_glucose_level   bmi smoking_status  \n",
       "0          Rural              82.54  33.4        Unknown  \n",
       "1          Urban              72.06  28.5        Unknown  \n",
       "2          Urban             103.72  19.5        Unknown  \n",
       "3          Urban              69.24  41.4         smokes  \n",
       "4          Rural             111.15  30.1         smokes  "
      ]
     },
     "execution_count": 11,
     "metadata": {},
     "output_type": "execute_result"
    }
   ],
   "source": [
    "test_data.head()"
   ]
  },
  {
   "cell_type": "code",
   "execution_count": 12,
   "id": "9d42148a",
   "metadata": {
    "execution": {
     "iopub.execute_input": "2023-01-12T18:59:55.155975Z",
     "iopub.status.busy": "2023-01-12T18:59:55.155542Z",
     "iopub.status.idle": "2023-01-12T18:59:55.185125Z",
     "shell.execute_reply": "2023-01-12T18:59:55.184179Z"
    },
    "papermill": {
     "duration": 0.040337,
     "end_time": "2023-01-12T18:59:55.188792",
     "exception": false,
     "start_time": "2023-01-12T18:59:55.148455",
     "status": "completed"
    },
    "tags": []
   },
   "outputs": [
    {
     "name": "stdout",
     "output_type": "stream",
     "text": [
      "Successful\n"
     ]
    }
   ],
   "source": [
    "output=pd.DataFrame({'id':test_data.id,'stroke':pred})\n",
    "output.to_csv('submissions.csv',index=False)\n",
    "print(\"Successful\")"
   ]
  },
  {
   "cell_type": "code",
   "execution_count": null,
   "id": "a5aff14f",
   "metadata": {
    "papermill": {
     "duration": 0.0054,
     "end_time": "2023-01-12T18:59:55.200539",
     "exception": false,
     "start_time": "2023-01-12T18:59:55.195139",
     "status": "completed"
    },
    "tags": []
   },
   "outputs": [],
   "source": []
  }
 ],
 "metadata": {
  "kernelspec": {
   "display_name": "Python 3",
   "language": "python",
   "name": "python3"
  },
  "language_info": {
   "codemirror_mode": {
    "name": "ipython",
    "version": 3
   },
   "file_extension": ".py",
   "mimetype": "text/x-python",
   "name": "python",
   "nbconvert_exporter": "python",
   "pygments_lexer": "ipython3",
   "version": "3.7.12"
  },
  "papermill": {
   "default_parameters": {},
   "duration": 19.738421,
   "end_time": "2023-01-12T18:59:55.930524",
   "environment_variables": {},
   "exception": null,
   "input_path": "__notebook__.ipynb",
   "output_path": "__notebook__.ipynb",
   "parameters": {},
   "start_time": "2023-01-12T18:59:36.192103",
   "version": "2.3.4"
  }
 },
 "nbformat": 4,
 "nbformat_minor": 5
}
