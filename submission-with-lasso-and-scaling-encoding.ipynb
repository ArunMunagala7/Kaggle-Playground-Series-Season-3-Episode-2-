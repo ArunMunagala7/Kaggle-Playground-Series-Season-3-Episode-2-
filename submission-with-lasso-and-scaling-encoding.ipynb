{
 "cells": [
  {
   "cell_type": "code",
   "execution_count": 1,
   "id": "37ccebb9",
   "metadata": {
    "_cell_guid": "b1076dfc-b9ad-4769-8c92-a6c4dae69d19",
    "_uuid": "8f2839f25d086af736a60e9eeb907d3b93b6e0e5",
    "execution": {
     "iopub.execute_input": "2023-01-14T19:57:34.173977Z",
     "iopub.status.busy": "2023-01-14T19:57:34.173473Z",
     "iopub.status.idle": "2023-01-14T19:57:34.189035Z",
     "shell.execute_reply": "2023-01-14T19:57:34.187384Z"
    },
    "papermill": {
     "duration": 0.030918,
     "end_time": "2023-01-14T19:57:34.193087",
     "exception": false,
     "start_time": "2023-01-14T19:57:34.162169",
     "status": "completed"
    },
    "tags": []
   },
   "outputs": [
    {
     "name": "stdout",
     "output_type": "stream",
     "text": [
      "/kaggle/input/playground-series-s3e2/sample_submission.csv\n",
      "/kaggle/input/playground-series-s3e2/train.csv\n",
      "/kaggle/input/playground-series-s3e2/test.csv\n"
     ]
    }
   ],
   "source": [
    "# This Python 3 environment comes with many helpful analytics libraries installed\n",
    "# It is defined by the kaggle/python Docker image: https://github.com/kaggle/docker-python\n",
    "# For example, here's several helpful packages to load\n",
    "\n",
    "import numpy as np # linear algebra\n",
    "import pandas as pd # data processing, CSV file I/O (e.g. pd.read_csv)\n",
    "\n",
    "# Input data files are available in the read-only \"../input/\" directory\n",
    "# For example, running this (by clicking run or pressing Shift+Enter) will list all files under the input directory\n",
    "\n",
    "import os\n",
    "for dirname, _, filenames in os.walk('/kaggle/input'):\n",
    "    for filename in filenames:\n",
    "        print(os.path.join(dirname, filename))\n",
    "\n",
    "# You can write up to 20GB to the current directory (/kaggle/working/) that gets preserved as output when you create a version using \"Save & Run All\" \n",
    "# You can also write temporary files to /kaggle/temp/, but they won't be saved outside of the current session"
   ]
  },
  {
   "cell_type": "markdown",
   "id": "12b62fee",
   "metadata": {
    "papermill": {
     "duration": 0.007288,
     "end_time": "2023-01-14T19:57:34.208902",
     "exception": false,
     "start_time": "2023-01-14T19:57:34.201614",
     "status": "completed"
    },
    "tags": []
   },
   "source": [
    "importing train data\n"
   ]
  },
  {
   "cell_type": "code",
   "execution_count": 2,
   "id": "e840fd8f",
   "metadata": {
    "execution": {
     "iopub.execute_input": "2023-01-14T19:57:34.226260Z",
     "iopub.status.busy": "2023-01-14T19:57:34.225792Z",
     "iopub.status.idle": "2023-01-14T19:57:34.308757Z",
     "shell.execute_reply": "2023-01-14T19:57:34.307390Z"
    },
    "papermill": {
     "duration": 0.095801,
     "end_time": "2023-01-14T19:57:34.312116",
     "exception": false,
     "start_time": "2023-01-14T19:57:34.216315",
     "status": "completed"
    },
    "tags": []
   },
   "outputs": [
    {
     "data": {
      "text/html": [
       "<div>\n",
       "<style scoped>\n",
       "    .dataframe tbody tr th:only-of-type {\n",
       "        vertical-align: middle;\n",
       "    }\n",
       "\n",
       "    .dataframe tbody tr th {\n",
       "        vertical-align: top;\n",
       "    }\n",
       "\n",
       "    .dataframe thead th {\n",
       "        text-align: right;\n",
       "    }\n",
       "</style>\n",
       "<table border=\"1\" class=\"dataframe\">\n",
       "  <thead>\n",
       "    <tr style=\"text-align: right;\">\n",
       "      <th></th>\n",
       "      <th>id</th>\n",
       "      <th>gender</th>\n",
       "      <th>age</th>\n",
       "      <th>hypertension</th>\n",
       "      <th>heart_disease</th>\n",
       "      <th>ever_married</th>\n",
       "      <th>work_type</th>\n",
       "      <th>Residence_type</th>\n",
       "      <th>avg_glucose_level</th>\n",
       "      <th>bmi</th>\n",
       "      <th>smoking_status</th>\n",
       "      <th>stroke</th>\n",
       "    </tr>\n",
       "  </thead>\n",
       "  <tbody>\n",
       "    <tr>\n",
       "      <th>0</th>\n",
       "      <td>0</td>\n",
       "      <td>Male</td>\n",
       "      <td>28.0</td>\n",
       "      <td>0</td>\n",
       "      <td>0</td>\n",
       "      <td>Yes</td>\n",
       "      <td>Private</td>\n",
       "      <td>Urban</td>\n",
       "      <td>79.53</td>\n",
       "      <td>31.1</td>\n",
       "      <td>never smoked</td>\n",
       "      <td>0</td>\n",
       "    </tr>\n",
       "    <tr>\n",
       "      <th>1</th>\n",
       "      <td>1</td>\n",
       "      <td>Male</td>\n",
       "      <td>33.0</td>\n",
       "      <td>0</td>\n",
       "      <td>0</td>\n",
       "      <td>Yes</td>\n",
       "      <td>Private</td>\n",
       "      <td>Rural</td>\n",
       "      <td>78.44</td>\n",
       "      <td>23.9</td>\n",
       "      <td>formerly smoked</td>\n",
       "      <td>0</td>\n",
       "    </tr>\n",
       "    <tr>\n",
       "      <th>2</th>\n",
       "      <td>2</td>\n",
       "      <td>Female</td>\n",
       "      <td>42.0</td>\n",
       "      <td>0</td>\n",
       "      <td>0</td>\n",
       "      <td>Yes</td>\n",
       "      <td>Private</td>\n",
       "      <td>Rural</td>\n",
       "      <td>103.00</td>\n",
       "      <td>40.3</td>\n",
       "      <td>Unknown</td>\n",
       "      <td>0</td>\n",
       "    </tr>\n",
       "    <tr>\n",
       "      <th>3</th>\n",
       "      <td>3</td>\n",
       "      <td>Male</td>\n",
       "      <td>56.0</td>\n",
       "      <td>0</td>\n",
       "      <td>0</td>\n",
       "      <td>Yes</td>\n",
       "      <td>Private</td>\n",
       "      <td>Urban</td>\n",
       "      <td>64.87</td>\n",
       "      <td>28.8</td>\n",
       "      <td>never smoked</td>\n",
       "      <td>0</td>\n",
       "    </tr>\n",
       "    <tr>\n",
       "      <th>4</th>\n",
       "      <td>4</td>\n",
       "      <td>Female</td>\n",
       "      <td>24.0</td>\n",
       "      <td>0</td>\n",
       "      <td>0</td>\n",
       "      <td>No</td>\n",
       "      <td>Private</td>\n",
       "      <td>Rural</td>\n",
       "      <td>73.36</td>\n",
       "      <td>28.8</td>\n",
       "      <td>never smoked</td>\n",
       "      <td>0</td>\n",
       "    </tr>\n",
       "  </tbody>\n",
       "</table>\n",
       "</div>"
      ],
      "text/plain": [
       "   id  gender   age  hypertension  heart_disease ever_married work_type  \\\n",
       "0   0    Male  28.0             0              0          Yes   Private   \n",
       "1   1    Male  33.0             0              0          Yes   Private   \n",
       "2   2  Female  42.0             0              0          Yes   Private   \n",
       "3   3    Male  56.0             0              0          Yes   Private   \n",
       "4   4  Female  24.0             0              0           No   Private   \n",
       "\n",
       "  Residence_type  avg_glucose_level   bmi   smoking_status  stroke  \n",
       "0          Urban              79.53  31.1     never smoked       0  \n",
       "1          Rural              78.44  23.9  formerly smoked       0  \n",
       "2          Rural             103.00  40.3          Unknown       0  \n",
       "3          Urban              64.87  28.8     never smoked       0  \n",
       "4          Rural              73.36  28.8     never smoked       0  "
      ]
     },
     "execution_count": 2,
     "metadata": {},
     "output_type": "execute_result"
    }
   ],
   "source": [
    "train_data=pd.read_csv('/kaggle/input/playground-series-s3e2/train.csv')\n",
    "train_data.head()"
   ]
  },
  {
   "cell_type": "markdown",
   "id": "ab736944",
   "metadata": {
    "papermill": {
     "duration": 0.007593,
     "end_time": "2023-01-14T19:57:34.328075",
     "exception": false,
     "start_time": "2023-01-14T19:57:34.320482",
     "status": "completed"
    },
    "tags": []
   },
   "source": [
    "importing test data"
   ]
  },
  {
   "cell_type": "code",
   "execution_count": 3,
   "id": "90410ba9",
   "metadata": {
    "execution": {
     "iopub.execute_input": "2023-01-14T19:57:34.346150Z",
     "iopub.status.busy": "2023-01-14T19:57:34.345705Z",
     "iopub.status.idle": "2023-01-14T19:57:34.395540Z",
     "shell.execute_reply": "2023-01-14T19:57:34.394553Z"
    },
    "papermill": {
     "duration": 0.062094,
     "end_time": "2023-01-14T19:57:34.397919",
     "exception": false,
     "start_time": "2023-01-14T19:57:34.335825",
     "status": "completed"
    },
    "tags": []
   },
   "outputs": [
    {
     "data": {
      "text/html": [
       "<div>\n",
       "<style scoped>\n",
       "    .dataframe tbody tr th:only-of-type {\n",
       "        vertical-align: middle;\n",
       "    }\n",
       "\n",
       "    .dataframe tbody tr th {\n",
       "        vertical-align: top;\n",
       "    }\n",
       "\n",
       "    .dataframe thead th {\n",
       "        text-align: right;\n",
       "    }\n",
       "</style>\n",
       "<table border=\"1\" class=\"dataframe\">\n",
       "  <thead>\n",
       "    <tr style=\"text-align: right;\">\n",
       "      <th></th>\n",
       "      <th>id</th>\n",
       "      <th>gender</th>\n",
       "      <th>age</th>\n",
       "      <th>hypertension</th>\n",
       "      <th>heart_disease</th>\n",
       "      <th>ever_married</th>\n",
       "      <th>work_type</th>\n",
       "      <th>Residence_type</th>\n",
       "      <th>avg_glucose_level</th>\n",
       "      <th>bmi</th>\n",
       "      <th>smoking_status</th>\n",
       "    </tr>\n",
       "  </thead>\n",
       "  <tbody>\n",
       "    <tr>\n",
       "      <th>0</th>\n",
       "      <td>15304</td>\n",
       "      <td>Female</td>\n",
       "      <td>57.0</td>\n",
       "      <td>0</td>\n",
       "      <td>0</td>\n",
       "      <td>Yes</td>\n",
       "      <td>Private</td>\n",
       "      <td>Rural</td>\n",
       "      <td>82.54</td>\n",
       "      <td>33.4</td>\n",
       "      <td>Unknown</td>\n",
       "    </tr>\n",
       "    <tr>\n",
       "      <th>1</th>\n",
       "      <td>15305</td>\n",
       "      <td>Male</td>\n",
       "      <td>70.0</td>\n",
       "      <td>1</td>\n",
       "      <td>0</td>\n",
       "      <td>Yes</td>\n",
       "      <td>Private</td>\n",
       "      <td>Urban</td>\n",
       "      <td>72.06</td>\n",
       "      <td>28.5</td>\n",
       "      <td>Unknown</td>\n",
       "    </tr>\n",
       "    <tr>\n",
       "      <th>2</th>\n",
       "      <td>15306</td>\n",
       "      <td>Female</td>\n",
       "      <td>5.0</td>\n",
       "      <td>0</td>\n",
       "      <td>0</td>\n",
       "      <td>No</td>\n",
       "      <td>children</td>\n",
       "      <td>Urban</td>\n",
       "      <td>103.72</td>\n",
       "      <td>19.5</td>\n",
       "      <td>Unknown</td>\n",
       "    </tr>\n",
       "    <tr>\n",
       "      <th>3</th>\n",
       "      <td>15307</td>\n",
       "      <td>Female</td>\n",
       "      <td>56.0</td>\n",
       "      <td>0</td>\n",
       "      <td>0</td>\n",
       "      <td>Yes</td>\n",
       "      <td>Govt_job</td>\n",
       "      <td>Urban</td>\n",
       "      <td>69.24</td>\n",
       "      <td>41.4</td>\n",
       "      <td>smokes</td>\n",
       "    </tr>\n",
       "    <tr>\n",
       "      <th>4</th>\n",
       "      <td>15308</td>\n",
       "      <td>Male</td>\n",
       "      <td>32.0</td>\n",
       "      <td>0</td>\n",
       "      <td>0</td>\n",
       "      <td>Yes</td>\n",
       "      <td>Private</td>\n",
       "      <td>Rural</td>\n",
       "      <td>111.15</td>\n",
       "      <td>30.1</td>\n",
       "      <td>smokes</td>\n",
       "    </tr>\n",
       "  </tbody>\n",
       "</table>\n",
       "</div>"
      ],
      "text/plain": [
       "      id  gender   age  hypertension  heart_disease ever_married work_type  \\\n",
       "0  15304  Female  57.0             0              0          Yes   Private   \n",
       "1  15305    Male  70.0             1              0          Yes   Private   \n",
       "2  15306  Female   5.0             0              0           No  children   \n",
       "3  15307  Female  56.0             0              0          Yes  Govt_job   \n",
       "4  15308    Male  32.0             0              0          Yes   Private   \n",
       "\n",
       "  Residence_type  avg_glucose_level   bmi smoking_status  \n",
       "0          Rural              82.54  33.4        Unknown  \n",
       "1          Urban              72.06  28.5        Unknown  \n",
       "2          Urban             103.72  19.5        Unknown  \n",
       "3          Urban              69.24  41.4         smokes  \n",
       "4          Rural             111.15  30.1         smokes  "
      ]
     },
     "execution_count": 3,
     "metadata": {},
     "output_type": "execute_result"
    }
   ],
   "source": [
    "test_data=pd.read_csv('/kaggle/input/playground-series-s3e2/test.csv')\n",
    "test_data.head()"
   ]
  },
  {
   "cell_type": "markdown",
   "id": "b4d5bd33",
   "metadata": {
    "papermill": {
     "duration": 0.00817,
     "end_time": "2023-01-14T19:57:34.417434",
     "exception": false,
     "start_time": "2023-01-14T19:57:34.409264",
     "status": "completed"
    },
    "tags": []
   },
   "source": [
    "importing libraries needed for One Hot Encoding the categorical columns"
   ]
  },
  {
   "cell_type": "code",
   "execution_count": 4,
   "id": "077d948b",
   "metadata": {
    "execution": {
     "iopub.execute_input": "2023-01-14T19:57:34.437867Z",
     "iopub.status.busy": "2023-01-14T19:57:34.436740Z",
     "iopub.status.idle": "2023-01-14T19:57:35.807541Z",
     "shell.execute_reply": "2023-01-14T19:57:35.805882Z"
    },
    "papermill": {
     "duration": 1.384236,
     "end_time": "2023-01-14T19:57:35.810770",
     "exception": false,
     "start_time": "2023-01-14T19:57:34.426534",
     "status": "completed"
    },
    "tags": []
   },
   "outputs": [],
   "source": [
    "from sklearn.compose import ColumnTransformer\n",
    "from sklearn.preprocessing import OneHotEncoder"
   ]
  },
  {
   "cell_type": "markdown",
   "id": "8c6b8777",
   "metadata": {
    "papermill": {
     "duration": 0.007539,
     "end_time": "2023-01-14T19:57:35.826483",
     "exception": false,
     "start_time": "2023-01-14T19:57:35.818944",
     "status": "completed"
    },
    "tags": []
   },
   "source": [
    "using all the categorical features of the dataset and performing one hot encoding"
   ]
  },
  {
   "cell_type": "code",
   "execution_count": 5,
   "id": "71fda068",
   "metadata": {
    "execution": {
     "iopub.execute_input": "2023-01-14T19:57:35.844780Z",
     "iopub.status.busy": "2023-01-14T19:57:35.844224Z",
     "iopub.status.idle": "2023-01-14T19:57:35.866872Z",
     "shell.execute_reply": "2023-01-14T19:57:35.865964Z"
    },
    "papermill": {
     "duration": 0.035496,
     "end_time": "2023-01-14T19:57:35.869812",
     "exception": false,
     "start_time": "2023-01-14T19:57:35.834316",
     "status": "completed"
    },
    "tags": []
   },
   "outputs": [],
   "source": [
    "cat_features = [col for col in train_data.select_dtypes(include=['object', 'category'])]\n",
    "cat_features.extend(['hypertension','heart_disease'])\n",
    "X_cat_train=train_data[cat_features]\n",
    "X_cat_test=test_data[cat_features]"
   ]
  },
  {
   "cell_type": "code",
   "execution_count": 6,
   "id": "fc0accd9",
   "metadata": {
    "execution": {
     "iopub.execute_input": "2023-01-14T19:57:35.889321Z",
     "iopub.status.busy": "2023-01-14T19:57:35.887763Z",
     "iopub.status.idle": "2023-01-14T19:57:35.896188Z",
     "shell.execute_reply": "2023-01-14T19:57:35.894574Z"
    },
    "papermill": {
     "duration": 0.020647,
     "end_time": "2023-01-14T19:57:35.898680",
     "exception": false,
     "start_time": "2023-01-14T19:57:35.878033",
     "status": "completed"
    },
    "tags": []
   },
   "outputs": [
    {
     "name": "stdout",
     "output_type": "stream",
     "text": [
      "['gender', 'ever_married', 'work_type', 'Residence_type', 'smoking_status', 'hypertension', 'heart_disease']\n"
     ]
    }
   ],
   "source": [
    "print(cat_features)"
   ]
  },
  {
   "cell_type": "markdown",
   "id": "c35f7785",
   "metadata": {
    "papermill": {
     "duration": 0.007869,
     "end_time": "2023-01-14T19:57:35.915664",
     "exception": false,
     "start_time": "2023-01-14T19:57:35.907795",
     "status": "completed"
    },
    "tags": []
   },
   "source": [
    "viewing the categorical features of the dataset"
   ]
  },
  {
   "cell_type": "code",
   "execution_count": 7,
   "id": "f059c07f",
   "metadata": {
    "execution": {
     "iopub.execute_input": "2023-01-14T19:57:35.935078Z",
     "iopub.status.busy": "2023-01-14T19:57:35.934033Z",
     "iopub.status.idle": "2023-01-14T19:57:35.950923Z",
     "shell.execute_reply": "2023-01-14T19:57:35.949254Z"
    },
    "papermill": {
     "duration": 0.029702,
     "end_time": "2023-01-14T19:57:35.953900",
     "exception": false,
     "start_time": "2023-01-14T19:57:35.924198",
     "status": "completed"
    },
    "tags": []
   },
   "outputs": [
    {
     "data": {
      "text/html": [
       "<div>\n",
       "<style scoped>\n",
       "    .dataframe tbody tr th:only-of-type {\n",
       "        vertical-align: middle;\n",
       "    }\n",
       "\n",
       "    .dataframe tbody tr th {\n",
       "        vertical-align: top;\n",
       "    }\n",
       "\n",
       "    .dataframe thead th {\n",
       "        text-align: right;\n",
       "    }\n",
       "</style>\n",
       "<table border=\"1\" class=\"dataframe\">\n",
       "  <thead>\n",
       "    <tr style=\"text-align: right;\">\n",
       "      <th></th>\n",
       "      <th>gender</th>\n",
       "      <th>ever_married</th>\n",
       "      <th>work_type</th>\n",
       "      <th>Residence_type</th>\n",
       "      <th>smoking_status</th>\n",
       "      <th>hypertension</th>\n",
       "      <th>heart_disease</th>\n",
       "    </tr>\n",
       "  </thead>\n",
       "  <tbody>\n",
       "    <tr>\n",
       "      <th>0</th>\n",
       "      <td>Male</td>\n",
       "      <td>Yes</td>\n",
       "      <td>Private</td>\n",
       "      <td>Urban</td>\n",
       "      <td>never smoked</td>\n",
       "      <td>0</td>\n",
       "      <td>0</td>\n",
       "    </tr>\n",
       "    <tr>\n",
       "      <th>1</th>\n",
       "      <td>Male</td>\n",
       "      <td>Yes</td>\n",
       "      <td>Private</td>\n",
       "      <td>Rural</td>\n",
       "      <td>formerly smoked</td>\n",
       "      <td>0</td>\n",
       "      <td>0</td>\n",
       "    </tr>\n",
       "    <tr>\n",
       "      <th>2</th>\n",
       "      <td>Female</td>\n",
       "      <td>Yes</td>\n",
       "      <td>Private</td>\n",
       "      <td>Rural</td>\n",
       "      <td>Unknown</td>\n",
       "      <td>0</td>\n",
       "      <td>0</td>\n",
       "    </tr>\n",
       "    <tr>\n",
       "      <th>3</th>\n",
       "      <td>Male</td>\n",
       "      <td>Yes</td>\n",
       "      <td>Private</td>\n",
       "      <td>Urban</td>\n",
       "      <td>never smoked</td>\n",
       "      <td>0</td>\n",
       "      <td>0</td>\n",
       "    </tr>\n",
       "    <tr>\n",
       "      <th>4</th>\n",
       "      <td>Female</td>\n",
       "      <td>No</td>\n",
       "      <td>Private</td>\n",
       "      <td>Rural</td>\n",
       "      <td>never smoked</td>\n",
       "      <td>0</td>\n",
       "      <td>0</td>\n",
       "    </tr>\n",
       "  </tbody>\n",
       "</table>\n",
       "</div>"
      ],
      "text/plain": [
       "   gender ever_married work_type Residence_type   smoking_status  \\\n",
       "0    Male          Yes   Private          Urban     never smoked   \n",
       "1    Male          Yes   Private          Rural  formerly smoked   \n",
       "2  Female          Yes   Private          Rural          Unknown   \n",
       "3    Male          Yes   Private          Urban     never smoked   \n",
       "4  Female           No   Private          Rural     never smoked   \n",
       "\n",
       "   hypertension  heart_disease  \n",
       "0             0              0  \n",
       "1             0              0  \n",
       "2             0              0  \n",
       "3             0              0  \n",
       "4             0              0  "
      ]
     },
     "execution_count": 7,
     "metadata": {},
     "output_type": "execute_result"
    }
   ],
   "source": [
    "X_cat_train.head()"
   ]
  },
  {
   "cell_type": "markdown",
   "id": "1d447d4b",
   "metadata": {
    "papermill": {
     "duration": 0.007965,
     "end_time": "2023-01-14T19:57:35.971033",
     "exception": false,
     "start_time": "2023-01-14T19:57:35.963068",
     "status": "completed"
    },
    "tags": []
   },
   "source": [
    "printing the categorical features of the test dataset"
   ]
  },
  {
   "cell_type": "code",
   "execution_count": 8,
   "id": "a22c9be2",
   "metadata": {
    "execution": {
     "iopub.execute_input": "2023-01-14T19:57:35.990121Z",
     "iopub.status.busy": "2023-01-14T19:57:35.989649Z",
     "iopub.status.idle": "2023-01-14T19:57:36.006131Z",
     "shell.execute_reply": "2023-01-14T19:57:36.004077Z"
    },
    "papermill": {
     "duration": 0.03016,
     "end_time": "2023-01-14T19:57:36.009642",
     "exception": false,
     "start_time": "2023-01-14T19:57:35.979482",
     "status": "completed"
    },
    "tags": []
   },
   "outputs": [
    {
     "data": {
      "text/html": [
       "<div>\n",
       "<style scoped>\n",
       "    .dataframe tbody tr th:only-of-type {\n",
       "        vertical-align: middle;\n",
       "    }\n",
       "\n",
       "    .dataframe tbody tr th {\n",
       "        vertical-align: top;\n",
       "    }\n",
       "\n",
       "    .dataframe thead th {\n",
       "        text-align: right;\n",
       "    }\n",
       "</style>\n",
       "<table border=\"1\" class=\"dataframe\">\n",
       "  <thead>\n",
       "    <tr style=\"text-align: right;\">\n",
       "      <th></th>\n",
       "      <th>gender</th>\n",
       "      <th>ever_married</th>\n",
       "      <th>work_type</th>\n",
       "      <th>Residence_type</th>\n",
       "      <th>smoking_status</th>\n",
       "      <th>hypertension</th>\n",
       "      <th>heart_disease</th>\n",
       "    </tr>\n",
       "  </thead>\n",
       "  <tbody>\n",
       "    <tr>\n",
       "      <th>0</th>\n",
       "      <td>Female</td>\n",
       "      <td>Yes</td>\n",
       "      <td>Private</td>\n",
       "      <td>Rural</td>\n",
       "      <td>Unknown</td>\n",
       "      <td>0</td>\n",
       "      <td>0</td>\n",
       "    </tr>\n",
       "    <tr>\n",
       "      <th>1</th>\n",
       "      <td>Male</td>\n",
       "      <td>Yes</td>\n",
       "      <td>Private</td>\n",
       "      <td>Urban</td>\n",
       "      <td>Unknown</td>\n",
       "      <td>1</td>\n",
       "      <td>0</td>\n",
       "    </tr>\n",
       "    <tr>\n",
       "      <th>2</th>\n",
       "      <td>Female</td>\n",
       "      <td>No</td>\n",
       "      <td>children</td>\n",
       "      <td>Urban</td>\n",
       "      <td>Unknown</td>\n",
       "      <td>0</td>\n",
       "      <td>0</td>\n",
       "    </tr>\n",
       "    <tr>\n",
       "      <th>3</th>\n",
       "      <td>Female</td>\n",
       "      <td>Yes</td>\n",
       "      <td>Govt_job</td>\n",
       "      <td>Urban</td>\n",
       "      <td>smokes</td>\n",
       "      <td>0</td>\n",
       "      <td>0</td>\n",
       "    </tr>\n",
       "    <tr>\n",
       "      <th>4</th>\n",
       "      <td>Male</td>\n",
       "      <td>Yes</td>\n",
       "      <td>Private</td>\n",
       "      <td>Rural</td>\n",
       "      <td>smokes</td>\n",
       "      <td>0</td>\n",
       "      <td>0</td>\n",
       "    </tr>\n",
       "  </tbody>\n",
       "</table>\n",
       "</div>"
      ],
      "text/plain": [
       "   gender ever_married work_type Residence_type smoking_status  hypertension  \\\n",
       "0  Female          Yes   Private          Rural        Unknown             0   \n",
       "1    Male          Yes   Private          Urban        Unknown             1   \n",
       "2  Female           No  children          Urban        Unknown             0   \n",
       "3  Female          Yes  Govt_job          Urban         smokes             0   \n",
       "4    Male          Yes   Private          Rural         smokes             0   \n",
       "\n",
       "   heart_disease  \n",
       "0              0  \n",
       "1              0  \n",
       "2              0  \n",
       "3              0  \n",
       "4              0  "
      ]
     },
     "execution_count": 8,
     "metadata": {},
     "output_type": "execute_result"
    }
   ],
   "source": [
    "X_cat_test.head()"
   ]
  },
  {
   "cell_type": "markdown",
   "id": "7a3ba92f",
   "metadata": {
    "papermill": {
     "duration": 0.008283,
     "end_time": "2023-01-14T19:57:36.026777",
     "exception": false,
     "start_time": "2023-01-14T19:57:36.018494",
     "status": "completed"
    },
    "tags": []
   },
   "source": [
    "look for the float values"
   ]
  },
  {
   "cell_type": "code",
   "execution_count": 9,
   "id": "c46a20a2",
   "metadata": {
    "execution": {
     "iopub.execute_input": "2023-01-14T19:57:36.046948Z",
     "iopub.status.busy": "2023-01-14T19:57:36.046491Z",
     "iopub.status.idle": "2023-01-14T19:57:36.065880Z",
     "shell.execute_reply": "2023-01-14T19:57:36.064323Z"
    },
    "papermill": {
     "duration": 0.033151,
     "end_time": "2023-01-14T19:57:36.068569",
     "exception": false,
     "start_time": "2023-01-14T19:57:36.035418",
     "status": "completed"
    },
    "tags": []
   },
   "outputs": [
    {
     "data": {
      "text/html": [
       "<div>\n",
       "<style scoped>\n",
       "    .dataframe tbody tr th:only-of-type {\n",
       "        vertical-align: middle;\n",
       "    }\n",
       "\n",
       "    .dataframe tbody tr th {\n",
       "        vertical-align: top;\n",
       "    }\n",
       "\n",
       "    .dataframe thead th {\n",
       "        text-align: right;\n",
       "    }\n",
       "</style>\n",
       "<table border=\"1\" class=\"dataframe\">\n",
       "  <thead>\n",
       "    <tr style=\"text-align: right;\">\n",
       "      <th></th>\n",
       "      <th>id</th>\n",
       "      <th>gender</th>\n",
       "      <th>age</th>\n",
       "      <th>hypertension</th>\n",
       "      <th>heart_disease</th>\n",
       "      <th>ever_married</th>\n",
       "      <th>work_type</th>\n",
       "      <th>Residence_type</th>\n",
       "      <th>avg_glucose_level</th>\n",
       "      <th>bmi</th>\n",
       "      <th>smoking_status</th>\n",
       "    </tr>\n",
       "  </thead>\n",
       "  <tbody>\n",
       "    <tr>\n",
       "      <th>0</th>\n",
       "      <td>15304</td>\n",
       "      <td>Female</td>\n",
       "      <td>57.0</td>\n",
       "      <td>0</td>\n",
       "      <td>0</td>\n",
       "      <td>Yes</td>\n",
       "      <td>Private</td>\n",
       "      <td>Rural</td>\n",
       "      <td>82.54</td>\n",
       "      <td>33.4</td>\n",
       "      <td>Unknown</td>\n",
       "    </tr>\n",
       "    <tr>\n",
       "      <th>1</th>\n",
       "      <td>15305</td>\n",
       "      <td>Male</td>\n",
       "      <td>70.0</td>\n",
       "      <td>1</td>\n",
       "      <td>0</td>\n",
       "      <td>Yes</td>\n",
       "      <td>Private</td>\n",
       "      <td>Urban</td>\n",
       "      <td>72.06</td>\n",
       "      <td>28.5</td>\n",
       "      <td>Unknown</td>\n",
       "    </tr>\n",
       "    <tr>\n",
       "      <th>2</th>\n",
       "      <td>15306</td>\n",
       "      <td>Female</td>\n",
       "      <td>5.0</td>\n",
       "      <td>0</td>\n",
       "      <td>0</td>\n",
       "      <td>No</td>\n",
       "      <td>children</td>\n",
       "      <td>Urban</td>\n",
       "      <td>103.72</td>\n",
       "      <td>19.5</td>\n",
       "      <td>Unknown</td>\n",
       "    </tr>\n",
       "    <tr>\n",
       "      <th>3</th>\n",
       "      <td>15307</td>\n",
       "      <td>Female</td>\n",
       "      <td>56.0</td>\n",
       "      <td>0</td>\n",
       "      <td>0</td>\n",
       "      <td>Yes</td>\n",
       "      <td>Govt_job</td>\n",
       "      <td>Urban</td>\n",
       "      <td>69.24</td>\n",
       "      <td>41.4</td>\n",
       "      <td>smokes</td>\n",
       "    </tr>\n",
       "    <tr>\n",
       "      <th>4</th>\n",
       "      <td>15308</td>\n",
       "      <td>Male</td>\n",
       "      <td>32.0</td>\n",
       "      <td>0</td>\n",
       "      <td>0</td>\n",
       "      <td>Yes</td>\n",
       "      <td>Private</td>\n",
       "      <td>Rural</td>\n",
       "      <td>111.15</td>\n",
       "      <td>30.1</td>\n",
       "      <td>smokes</td>\n",
       "    </tr>\n",
       "  </tbody>\n",
       "</table>\n",
       "</div>"
      ],
      "text/plain": [
       "      id  gender   age  hypertension  heart_disease ever_married work_type  \\\n",
       "0  15304  Female  57.0             0              0          Yes   Private   \n",
       "1  15305    Male  70.0             1              0          Yes   Private   \n",
       "2  15306  Female   5.0             0              0           No  children   \n",
       "3  15307  Female  56.0             0              0          Yes  Govt_job   \n",
       "4  15308    Male  32.0             0              0          Yes   Private   \n",
       "\n",
       "  Residence_type  avg_glucose_level   bmi smoking_status  \n",
       "0          Rural              82.54  33.4        Unknown  \n",
       "1          Urban              72.06  28.5        Unknown  \n",
       "2          Urban             103.72  19.5        Unknown  \n",
       "3          Urban              69.24  41.4         smokes  \n",
       "4          Rural             111.15  30.1         smokes  "
      ]
     },
     "execution_count": 9,
     "metadata": {},
     "output_type": "execute_result"
    }
   ],
   "source": [
    "test_data.head()"
   ]
  },
  {
   "cell_type": "code",
   "execution_count": 10,
   "id": "e976bc99",
   "metadata": {
    "execution": {
     "iopub.execute_input": "2023-01-14T19:57:36.088874Z",
     "iopub.status.busy": "2023-01-14T19:57:36.088415Z",
     "iopub.status.idle": "2023-01-14T19:57:36.107524Z",
     "shell.execute_reply": "2023-01-14T19:57:36.106249Z"
    },
    "papermill": {
     "duration": 0.032521,
     "end_time": "2023-01-14T19:57:36.110116",
     "exception": false,
     "start_time": "2023-01-14T19:57:36.077595",
     "status": "completed"
    },
    "tags": []
   },
   "outputs": [
    {
     "data": {
      "text/html": [
       "<div>\n",
       "<style scoped>\n",
       "    .dataframe tbody tr th:only-of-type {\n",
       "        vertical-align: middle;\n",
       "    }\n",
       "\n",
       "    .dataframe tbody tr th {\n",
       "        vertical-align: top;\n",
       "    }\n",
       "\n",
       "    .dataframe thead th {\n",
       "        text-align: right;\n",
       "    }\n",
       "</style>\n",
       "<table border=\"1\" class=\"dataframe\">\n",
       "  <thead>\n",
       "    <tr style=\"text-align: right;\">\n",
       "      <th></th>\n",
       "      <th>age</th>\n",
       "      <th>avg_glucose_level</th>\n",
       "      <th>bmi</th>\n",
       "    </tr>\n",
       "  </thead>\n",
       "  <tbody>\n",
       "    <tr>\n",
       "      <th>0</th>\n",
       "      <td>28.0</td>\n",
       "      <td>79.53</td>\n",
       "      <td>31.1</td>\n",
       "    </tr>\n",
       "    <tr>\n",
       "      <th>1</th>\n",
       "      <td>33.0</td>\n",
       "      <td>78.44</td>\n",
       "      <td>23.9</td>\n",
       "    </tr>\n",
       "    <tr>\n",
       "      <th>2</th>\n",
       "      <td>42.0</td>\n",
       "      <td>103.00</td>\n",
       "      <td>40.3</td>\n",
       "    </tr>\n",
       "    <tr>\n",
       "      <th>3</th>\n",
       "      <td>56.0</td>\n",
       "      <td>64.87</td>\n",
       "      <td>28.8</td>\n",
       "    </tr>\n",
       "    <tr>\n",
       "      <th>4</th>\n",
       "      <td>24.0</td>\n",
       "      <td>73.36</td>\n",
       "      <td>28.8</td>\n",
       "    </tr>\n",
       "  </tbody>\n",
       "</table>\n",
       "</div>"
      ],
      "text/plain": [
       "    age  avg_glucose_level   bmi\n",
       "0  28.0              79.53  31.1\n",
       "1  33.0              78.44  23.9\n",
       "2  42.0             103.00  40.3\n",
       "3  56.0              64.87  28.8\n",
       "4  24.0              73.36  28.8"
      ]
     },
     "execution_count": 10,
     "metadata": {},
     "output_type": "execute_result"
    }
   ],
   "source": [
    "num=['age','avg_glucose_level','bmi']\n",
    "X_num_train=train_data[num]\n",
    "X_num_test=test_data[num]\n",
    "X_num_train.head()"
   ]
  },
  {
   "cell_type": "markdown",
   "id": "6db55446",
   "metadata": {
    "papermill": {
     "duration": 0.008947,
     "end_time": "2023-01-14T19:57:36.129128",
     "exception": false,
     "start_time": "2023-01-14T19:57:36.120181",
     "status": "completed"
    },
    "tags": []
   },
   "source": [
    "scaling and converting back to dataframe again"
   ]
  },
  {
   "cell_type": "code",
   "execution_count": 11,
   "id": "1c631871",
   "metadata": {
    "execution": {
     "iopub.execute_input": "2023-01-14T19:57:36.149186Z",
     "iopub.status.busy": "2023-01-14T19:57:36.148748Z",
     "iopub.status.idle": "2023-01-14T19:57:36.171978Z",
     "shell.execute_reply": "2023-01-14T19:57:36.170383Z"
    },
    "papermill": {
     "duration": 0.036759,
     "end_time": "2023-01-14T19:57:36.174936",
     "exception": false,
     "start_time": "2023-01-14T19:57:36.138177",
     "status": "completed"
    },
    "tags": []
   },
   "outputs": [
    {
     "data": {
      "text/html": [
       "<div>\n",
       "<style scoped>\n",
       "    .dataframe tbody tr th:only-of-type {\n",
       "        vertical-align: middle;\n",
       "    }\n",
       "\n",
       "    .dataframe tbody tr th {\n",
       "        vertical-align: top;\n",
       "    }\n",
       "\n",
       "    .dataframe thead th {\n",
       "        text-align: right;\n",
       "    }\n",
       "</style>\n",
       "<table border=\"1\" class=\"dataframe\">\n",
       "  <thead>\n",
       "    <tr style=\"text-align: right;\">\n",
       "      <th></th>\n",
       "      <th>age</th>\n",
       "      <th>avg_glucose_level</th>\n",
       "      <th>bmi</th>\n",
       "    </tr>\n",
       "  </thead>\n",
       "  <tbody>\n",
       "    <tr>\n",
       "      <th>0</th>\n",
       "      <td>-0.625710</td>\n",
       "      <td>-0.373297</td>\n",
       "      <td>0.444397</td>\n",
       "    </tr>\n",
       "    <tr>\n",
       "      <th>1</th>\n",
       "      <td>-0.392544</td>\n",
       "      <td>-0.416084</td>\n",
       "      <td>-0.626698</td>\n",
       "    </tr>\n",
       "    <tr>\n",
       "      <th>2</th>\n",
       "      <td>0.027154</td>\n",
       "      <td>0.547988</td>\n",
       "      <td>1.813018</td>\n",
       "    </tr>\n",
       "    <tr>\n",
       "      <th>3</th>\n",
       "      <td>0.680018</td>\n",
       "      <td>-0.948757</td>\n",
       "      <td>0.102242</td>\n",
       "    </tr>\n",
       "    <tr>\n",
       "      <th>4</th>\n",
       "      <td>-0.812243</td>\n",
       "      <td>-0.615493</td>\n",
       "      <td>0.102242</td>\n",
       "    </tr>\n",
       "  </tbody>\n",
       "</table>\n",
       "</div>"
      ],
      "text/plain": [
       "        age  avg_glucose_level       bmi\n",
       "0 -0.625710          -0.373297  0.444397\n",
       "1 -0.392544          -0.416084 -0.626698\n",
       "2  0.027154           0.547988  1.813018\n",
       "3  0.680018          -0.948757  0.102242\n",
       "4 -0.812243          -0.615493  0.102242"
      ]
     },
     "execution_count": 11,
     "metadata": {},
     "output_type": "execute_result"
    }
   ],
   "source": [
    "from sklearn.preprocessing import StandardScaler\n",
    "scaler=StandardScaler()\n",
    "c1=X_num_train.columns\n",
    "c2=X_num_test.columns\n",
    "X_num_train=scaler.fit_transform(X_num_train)\n",
    "X_num_test=scaler.transform(X_num_test)\n",
    "X_num_train=pd.DataFrame(X_num_train,columns=c1)\n",
    "X_num_test=pd.DataFrame(X_num_test,columns=c2)\n",
    "X_num_train.head()"
   ]
  },
  {
   "cell_type": "code",
   "execution_count": 12,
   "id": "d614c070",
   "metadata": {
    "execution": {
     "iopub.execute_input": "2023-01-14T19:57:36.195699Z",
     "iopub.status.busy": "2023-01-14T19:57:36.195275Z",
     "iopub.status.idle": "2023-01-14T19:57:36.205735Z",
     "shell.execute_reply": "2023-01-14T19:57:36.204085Z"
    },
    "papermill": {
     "duration": 0.023875,
     "end_time": "2023-01-14T19:57:36.208484",
     "exception": false,
     "start_time": "2023-01-14T19:57:36.184609",
     "status": "completed"
    },
    "tags": []
   },
   "outputs": [
    {
     "data": {
      "text/plain": [
       "age                  float64\n",
       "avg_glucose_level    float64\n",
       "bmi                  float64\n",
       "dtype: object"
      ]
     },
     "execution_count": 12,
     "metadata": {},
     "output_type": "execute_result"
    }
   ],
   "source": [
    "X_num_train.dtypes"
   ]
  },
  {
   "cell_type": "code",
   "execution_count": 13,
   "id": "68e0ac09",
   "metadata": {
    "execution": {
     "iopub.execute_input": "2023-01-14T19:57:36.229812Z",
     "iopub.status.busy": "2023-01-14T19:57:36.229396Z",
     "iopub.status.idle": "2023-01-14T19:57:36.237758Z",
     "shell.execute_reply": "2023-01-14T19:57:36.236114Z"
    },
    "papermill": {
     "duration": 0.022369,
     "end_time": "2023-01-14T19:57:36.240683",
     "exception": false,
     "start_time": "2023-01-14T19:57:36.218314",
     "status": "completed"
    },
    "tags": []
   },
   "outputs": [],
   "source": [
    "y_train=train_data['stroke']"
   ]
  },
  {
   "cell_type": "code",
   "execution_count": 14,
   "id": "bdd90566",
   "metadata": {
    "execution": {
     "iopub.execute_input": "2023-01-14T19:57:36.262877Z",
     "iopub.status.busy": "2023-01-14T19:57:36.262438Z",
     "iopub.status.idle": "2023-01-14T19:57:36.298414Z",
     "shell.execute_reply": "2023-01-14T19:57:36.296904Z"
    },
    "papermill": {
     "duration": 0.05091,
     "end_time": "2023-01-14T19:57:36.301557",
     "exception": false,
     "start_time": "2023-01-14T19:57:36.250647",
     "status": "completed"
    },
    "tags": []
   },
   "outputs": [
    {
     "data": {
      "text/html": [
       "<div>\n",
       "<style scoped>\n",
       "    .dataframe tbody tr th:only-of-type {\n",
       "        vertical-align: middle;\n",
       "    }\n",
       "\n",
       "    .dataframe tbody tr th {\n",
       "        vertical-align: top;\n",
       "    }\n",
       "\n",
       "    .dataframe thead th {\n",
       "        text-align: right;\n",
       "    }\n",
       "</style>\n",
       "<table border=\"1\" class=\"dataframe\">\n",
       "  <thead>\n",
       "    <tr style=\"text-align: right;\">\n",
       "      <th></th>\n",
       "      <th>hypertension</th>\n",
       "      <th>heart_disease</th>\n",
       "      <th>gender_Female</th>\n",
       "      <th>gender_Male</th>\n",
       "      <th>gender_Other</th>\n",
       "      <th>ever_married_No</th>\n",
       "      <th>ever_married_Yes</th>\n",
       "      <th>work_type_Govt_job</th>\n",
       "      <th>work_type_Never_worked</th>\n",
       "      <th>work_type_Private</th>\n",
       "      <th>work_type_Self-employed</th>\n",
       "      <th>work_type_children</th>\n",
       "      <th>Residence_type_Rural</th>\n",
       "      <th>Residence_type_Urban</th>\n",
       "      <th>smoking_status_Unknown</th>\n",
       "      <th>smoking_status_formerly smoked</th>\n",
       "      <th>smoking_status_never smoked</th>\n",
       "      <th>smoking_status_smokes</th>\n",
       "    </tr>\n",
       "  </thead>\n",
       "  <tbody>\n",
       "    <tr>\n",
       "      <th>0</th>\n",
       "      <td>0</td>\n",
       "      <td>0</td>\n",
       "      <td>0</td>\n",
       "      <td>1</td>\n",
       "      <td>0</td>\n",
       "      <td>0</td>\n",
       "      <td>1</td>\n",
       "      <td>0</td>\n",
       "      <td>0</td>\n",
       "      <td>1</td>\n",
       "      <td>0</td>\n",
       "      <td>0</td>\n",
       "      <td>0</td>\n",
       "      <td>1</td>\n",
       "      <td>0</td>\n",
       "      <td>0</td>\n",
       "      <td>1</td>\n",
       "      <td>0</td>\n",
       "    </tr>\n",
       "    <tr>\n",
       "      <th>1</th>\n",
       "      <td>0</td>\n",
       "      <td>0</td>\n",
       "      <td>0</td>\n",
       "      <td>1</td>\n",
       "      <td>0</td>\n",
       "      <td>0</td>\n",
       "      <td>1</td>\n",
       "      <td>0</td>\n",
       "      <td>0</td>\n",
       "      <td>1</td>\n",
       "      <td>0</td>\n",
       "      <td>0</td>\n",
       "      <td>1</td>\n",
       "      <td>0</td>\n",
       "      <td>0</td>\n",
       "      <td>1</td>\n",
       "      <td>0</td>\n",
       "      <td>0</td>\n",
       "    </tr>\n",
       "    <tr>\n",
       "      <th>2</th>\n",
       "      <td>0</td>\n",
       "      <td>0</td>\n",
       "      <td>1</td>\n",
       "      <td>0</td>\n",
       "      <td>0</td>\n",
       "      <td>0</td>\n",
       "      <td>1</td>\n",
       "      <td>0</td>\n",
       "      <td>0</td>\n",
       "      <td>1</td>\n",
       "      <td>0</td>\n",
       "      <td>0</td>\n",
       "      <td>1</td>\n",
       "      <td>0</td>\n",
       "      <td>1</td>\n",
       "      <td>0</td>\n",
       "      <td>0</td>\n",
       "      <td>0</td>\n",
       "    </tr>\n",
       "    <tr>\n",
       "      <th>3</th>\n",
       "      <td>0</td>\n",
       "      <td>0</td>\n",
       "      <td>0</td>\n",
       "      <td>1</td>\n",
       "      <td>0</td>\n",
       "      <td>0</td>\n",
       "      <td>1</td>\n",
       "      <td>0</td>\n",
       "      <td>0</td>\n",
       "      <td>1</td>\n",
       "      <td>0</td>\n",
       "      <td>0</td>\n",
       "      <td>0</td>\n",
       "      <td>1</td>\n",
       "      <td>0</td>\n",
       "      <td>0</td>\n",
       "      <td>1</td>\n",
       "      <td>0</td>\n",
       "    </tr>\n",
       "    <tr>\n",
       "      <th>4</th>\n",
       "      <td>0</td>\n",
       "      <td>0</td>\n",
       "      <td>1</td>\n",
       "      <td>0</td>\n",
       "      <td>0</td>\n",
       "      <td>1</td>\n",
       "      <td>0</td>\n",
       "      <td>0</td>\n",
       "      <td>0</td>\n",
       "      <td>1</td>\n",
       "      <td>0</td>\n",
       "      <td>0</td>\n",
       "      <td>1</td>\n",
       "      <td>0</td>\n",
       "      <td>0</td>\n",
       "      <td>0</td>\n",
       "      <td>1</td>\n",
       "      <td>0</td>\n",
       "    </tr>\n",
       "  </tbody>\n",
       "</table>\n",
       "</div>"
      ],
      "text/plain": [
       "   hypertension  heart_disease  gender_Female  gender_Male  gender_Other  \\\n",
       "0             0              0              0            1             0   \n",
       "1             0              0              0            1             0   \n",
       "2             0              0              1            0             0   \n",
       "3             0              0              0            1             0   \n",
       "4             0              0              1            0             0   \n",
       "\n",
       "   ever_married_No  ever_married_Yes  work_type_Govt_job  \\\n",
       "0                0                 1                   0   \n",
       "1                0                 1                   0   \n",
       "2                0                 1                   0   \n",
       "3                0                 1                   0   \n",
       "4                1                 0                   0   \n",
       "\n",
       "   work_type_Never_worked  work_type_Private  work_type_Self-employed  \\\n",
       "0                       0                  1                        0   \n",
       "1                       0                  1                        0   \n",
       "2                       0                  1                        0   \n",
       "3                       0                  1                        0   \n",
       "4                       0                  1                        0   \n",
       "\n",
       "   work_type_children  Residence_type_Rural  Residence_type_Urban  \\\n",
       "0                   0                     0                     1   \n",
       "1                   0                     1                     0   \n",
       "2                   0                     1                     0   \n",
       "3                   0                     0                     1   \n",
       "4                   0                     1                     0   \n",
       "\n",
       "   smoking_status_Unknown  smoking_status_formerly smoked  \\\n",
       "0                       0                               0   \n",
       "1                       0                               1   \n",
       "2                       1                               0   \n",
       "3                       0                               0   \n",
       "4                       0                               0   \n",
       "\n",
       "   smoking_status_never smoked  smoking_status_smokes  \n",
       "0                            1                      0  \n",
       "1                            0                      0  \n",
       "2                            0                      0  \n",
       "3                            1                      0  \n",
       "4                            1                      0  "
      ]
     },
     "execution_count": 14,
     "metadata": {},
     "output_type": "execute_result"
    }
   ],
   "source": [
    "X_cat1e_train=pd.get_dummies(X_cat_train)\n",
    "X_cat1e_train.head()"
   ]
  },
  {
   "cell_type": "code",
   "execution_count": 15,
   "id": "b798c52b",
   "metadata": {
    "execution": {
     "iopub.execute_input": "2023-01-14T19:57:36.324863Z",
     "iopub.status.busy": "2023-01-14T19:57:36.324398Z",
     "iopub.status.idle": "2023-01-14T19:57:36.355728Z",
     "shell.execute_reply": "2023-01-14T19:57:36.354236Z"
    },
    "papermill": {
     "duration": 0.046981,
     "end_time": "2023-01-14T19:57:36.358825",
     "exception": false,
     "start_time": "2023-01-14T19:57:36.311844",
     "status": "completed"
    },
    "tags": []
   },
   "outputs": [
    {
     "data": {
      "text/html": [
       "<div>\n",
       "<style scoped>\n",
       "    .dataframe tbody tr th:only-of-type {\n",
       "        vertical-align: middle;\n",
       "    }\n",
       "\n",
       "    .dataframe tbody tr th {\n",
       "        vertical-align: top;\n",
       "    }\n",
       "\n",
       "    .dataframe thead th {\n",
       "        text-align: right;\n",
       "    }\n",
       "</style>\n",
       "<table border=\"1\" class=\"dataframe\">\n",
       "  <thead>\n",
       "    <tr style=\"text-align: right;\">\n",
       "      <th></th>\n",
       "      <th>hypertension</th>\n",
       "      <th>heart_disease</th>\n",
       "      <th>gender_Female</th>\n",
       "      <th>gender_Male</th>\n",
       "      <th>gender_Other</th>\n",
       "      <th>ever_married_No</th>\n",
       "      <th>ever_married_Yes</th>\n",
       "      <th>work_type_Govt_job</th>\n",
       "      <th>work_type_Never_worked</th>\n",
       "      <th>work_type_Private</th>\n",
       "      <th>work_type_Self-employed</th>\n",
       "      <th>work_type_children</th>\n",
       "      <th>Residence_type_Rural</th>\n",
       "      <th>Residence_type_Urban</th>\n",
       "      <th>smoking_status_Unknown</th>\n",
       "      <th>smoking_status_formerly smoked</th>\n",
       "      <th>smoking_status_never smoked</th>\n",
       "      <th>smoking_status_smokes</th>\n",
       "    </tr>\n",
       "  </thead>\n",
       "  <tbody>\n",
       "    <tr>\n",
       "      <th>0</th>\n",
       "      <td>0</td>\n",
       "      <td>0</td>\n",
       "      <td>1</td>\n",
       "      <td>0</td>\n",
       "      <td>0</td>\n",
       "      <td>0</td>\n",
       "      <td>1</td>\n",
       "      <td>0</td>\n",
       "      <td>0</td>\n",
       "      <td>1</td>\n",
       "      <td>0</td>\n",
       "      <td>0</td>\n",
       "      <td>1</td>\n",
       "      <td>0</td>\n",
       "      <td>1</td>\n",
       "      <td>0</td>\n",
       "      <td>0</td>\n",
       "      <td>0</td>\n",
       "    </tr>\n",
       "    <tr>\n",
       "      <th>1</th>\n",
       "      <td>1</td>\n",
       "      <td>0</td>\n",
       "      <td>0</td>\n",
       "      <td>1</td>\n",
       "      <td>0</td>\n",
       "      <td>0</td>\n",
       "      <td>1</td>\n",
       "      <td>0</td>\n",
       "      <td>0</td>\n",
       "      <td>1</td>\n",
       "      <td>0</td>\n",
       "      <td>0</td>\n",
       "      <td>0</td>\n",
       "      <td>1</td>\n",
       "      <td>1</td>\n",
       "      <td>0</td>\n",
       "      <td>0</td>\n",
       "      <td>0</td>\n",
       "    </tr>\n",
       "    <tr>\n",
       "      <th>2</th>\n",
       "      <td>0</td>\n",
       "      <td>0</td>\n",
       "      <td>1</td>\n",
       "      <td>0</td>\n",
       "      <td>0</td>\n",
       "      <td>1</td>\n",
       "      <td>0</td>\n",
       "      <td>0</td>\n",
       "      <td>0</td>\n",
       "      <td>0</td>\n",
       "      <td>0</td>\n",
       "      <td>1</td>\n",
       "      <td>0</td>\n",
       "      <td>1</td>\n",
       "      <td>1</td>\n",
       "      <td>0</td>\n",
       "      <td>0</td>\n",
       "      <td>0</td>\n",
       "    </tr>\n",
       "    <tr>\n",
       "      <th>3</th>\n",
       "      <td>0</td>\n",
       "      <td>0</td>\n",
       "      <td>1</td>\n",
       "      <td>0</td>\n",
       "      <td>0</td>\n",
       "      <td>0</td>\n",
       "      <td>1</td>\n",
       "      <td>1</td>\n",
       "      <td>0</td>\n",
       "      <td>0</td>\n",
       "      <td>0</td>\n",
       "      <td>0</td>\n",
       "      <td>0</td>\n",
       "      <td>1</td>\n",
       "      <td>0</td>\n",
       "      <td>0</td>\n",
       "      <td>0</td>\n",
       "      <td>1</td>\n",
       "    </tr>\n",
       "    <tr>\n",
       "      <th>4</th>\n",
       "      <td>0</td>\n",
       "      <td>0</td>\n",
       "      <td>0</td>\n",
       "      <td>1</td>\n",
       "      <td>0</td>\n",
       "      <td>0</td>\n",
       "      <td>1</td>\n",
       "      <td>0</td>\n",
       "      <td>0</td>\n",
       "      <td>1</td>\n",
       "      <td>0</td>\n",
       "      <td>0</td>\n",
       "      <td>1</td>\n",
       "      <td>0</td>\n",
       "      <td>0</td>\n",
       "      <td>0</td>\n",
       "      <td>0</td>\n",
       "      <td>1</td>\n",
       "    </tr>\n",
       "  </tbody>\n",
       "</table>\n",
       "</div>"
      ],
      "text/plain": [
       "   hypertension  heart_disease  gender_Female  gender_Male  gender_Other  \\\n",
       "0             0              0              1            0             0   \n",
       "1             1              0              0            1             0   \n",
       "2             0              0              1            0             0   \n",
       "3             0              0              1            0             0   \n",
       "4             0              0              0            1             0   \n",
       "\n",
       "   ever_married_No  ever_married_Yes  work_type_Govt_job  \\\n",
       "0                0                 1                   0   \n",
       "1                0                 1                   0   \n",
       "2                1                 0                   0   \n",
       "3                0                 1                   1   \n",
       "4                0                 1                   0   \n",
       "\n",
       "   work_type_Never_worked  work_type_Private  work_type_Self-employed  \\\n",
       "0                       0                  1                        0   \n",
       "1                       0                  1                        0   \n",
       "2                       0                  0                        0   \n",
       "3                       0                  0                        0   \n",
       "4                       0                  1                        0   \n",
       "\n",
       "   work_type_children  Residence_type_Rural  Residence_type_Urban  \\\n",
       "0                   0                     1                     0   \n",
       "1                   0                     0                     1   \n",
       "2                   1                     0                     1   \n",
       "3                   0                     0                     1   \n",
       "4                   0                     1                     0   \n",
       "\n",
       "   smoking_status_Unknown  smoking_status_formerly smoked  \\\n",
       "0                       1                               0   \n",
       "1                       1                               0   \n",
       "2                       1                               0   \n",
       "3                       0                               0   \n",
       "4                       0                               0   \n",
       "\n",
       "   smoking_status_never smoked  smoking_status_smokes  \n",
       "0                            0                      0  \n",
       "1                            0                      0  \n",
       "2                            0                      0  \n",
       "3                            0                      1  \n",
       "4                            0                      1  "
      ]
     },
     "execution_count": 15,
     "metadata": {},
     "output_type": "execute_result"
    }
   ],
   "source": [
    "X_cat1e_test=pd.get_dummies(X_cat_test)\n",
    "X_cat1e_test.head()"
   ]
  },
  {
   "cell_type": "code",
   "execution_count": 16,
   "id": "cd18028d",
   "metadata": {
    "execution": {
     "iopub.execute_input": "2023-01-14T19:57:36.381647Z",
     "iopub.status.busy": "2023-01-14T19:57:36.381200Z",
     "iopub.status.idle": "2023-01-14T19:57:36.407883Z",
     "shell.execute_reply": "2023-01-14T19:57:36.406659Z"
    },
    "papermill": {
     "duration": 0.041209,
     "end_time": "2023-01-14T19:57:36.410647",
     "exception": false,
     "start_time": "2023-01-14T19:57:36.369438",
     "status": "completed"
    },
    "tags": []
   },
   "outputs": [
    {
     "data": {
      "text/html": [
       "<div>\n",
       "<style scoped>\n",
       "    .dataframe tbody tr th:only-of-type {\n",
       "        vertical-align: middle;\n",
       "    }\n",
       "\n",
       "    .dataframe tbody tr th {\n",
       "        vertical-align: top;\n",
       "    }\n",
       "\n",
       "    .dataframe thead th {\n",
       "        text-align: right;\n",
       "    }\n",
       "</style>\n",
       "<table border=\"1\" class=\"dataframe\">\n",
       "  <thead>\n",
       "    <tr style=\"text-align: right;\">\n",
       "      <th></th>\n",
       "      <th>hypertension</th>\n",
       "      <th>heart_disease</th>\n",
       "      <th>gender_Female</th>\n",
       "      <th>gender_Male</th>\n",
       "      <th>gender_Other</th>\n",
       "      <th>ever_married_No</th>\n",
       "      <th>ever_married_Yes</th>\n",
       "      <th>work_type_Govt_job</th>\n",
       "      <th>work_type_Never_worked</th>\n",
       "      <th>work_type_Private</th>\n",
       "      <th>...</th>\n",
       "      <th>work_type_children</th>\n",
       "      <th>Residence_type_Rural</th>\n",
       "      <th>Residence_type_Urban</th>\n",
       "      <th>smoking_status_Unknown</th>\n",
       "      <th>smoking_status_formerly smoked</th>\n",
       "      <th>smoking_status_never smoked</th>\n",
       "      <th>smoking_status_smokes</th>\n",
       "      <th>age</th>\n",
       "      <th>avg_glucose_level</th>\n",
       "      <th>bmi</th>\n",
       "    </tr>\n",
       "  </thead>\n",
       "  <tbody>\n",
       "    <tr>\n",
       "      <th>0</th>\n",
       "      <td>0</td>\n",
       "      <td>0</td>\n",
       "      <td>0</td>\n",
       "      <td>1</td>\n",
       "      <td>0</td>\n",
       "      <td>0</td>\n",
       "      <td>1</td>\n",
       "      <td>0</td>\n",
       "      <td>0</td>\n",
       "      <td>1</td>\n",
       "      <td>...</td>\n",
       "      <td>0</td>\n",
       "      <td>0</td>\n",
       "      <td>1</td>\n",
       "      <td>0</td>\n",
       "      <td>0</td>\n",
       "      <td>1</td>\n",
       "      <td>0</td>\n",
       "      <td>-0.625710</td>\n",
       "      <td>-0.373297</td>\n",
       "      <td>0.444397</td>\n",
       "    </tr>\n",
       "    <tr>\n",
       "      <th>1</th>\n",
       "      <td>0</td>\n",
       "      <td>0</td>\n",
       "      <td>0</td>\n",
       "      <td>1</td>\n",
       "      <td>0</td>\n",
       "      <td>0</td>\n",
       "      <td>1</td>\n",
       "      <td>0</td>\n",
       "      <td>0</td>\n",
       "      <td>1</td>\n",
       "      <td>...</td>\n",
       "      <td>0</td>\n",
       "      <td>1</td>\n",
       "      <td>0</td>\n",
       "      <td>0</td>\n",
       "      <td>1</td>\n",
       "      <td>0</td>\n",
       "      <td>0</td>\n",
       "      <td>-0.392544</td>\n",
       "      <td>-0.416084</td>\n",
       "      <td>-0.626698</td>\n",
       "    </tr>\n",
       "    <tr>\n",
       "      <th>2</th>\n",
       "      <td>0</td>\n",
       "      <td>0</td>\n",
       "      <td>1</td>\n",
       "      <td>0</td>\n",
       "      <td>0</td>\n",
       "      <td>0</td>\n",
       "      <td>1</td>\n",
       "      <td>0</td>\n",
       "      <td>0</td>\n",
       "      <td>1</td>\n",
       "      <td>...</td>\n",
       "      <td>0</td>\n",
       "      <td>1</td>\n",
       "      <td>0</td>\n",
       "      <td>1</td>\n",
       "      <td>0</td>\n",
       "      <td>0</td>\n",
       "      <td>0</td>\n",
       "      <td>0.027154</td>\n",
       "      <td>0.547988</td>\n",
       "      <td>1.813018</td>\n",
       "    </tr>\n",
       "    <tr>\n",
       "      <th>3</th>\n",
       "      <td>0</td>\n",
       "      <td>0</td>\n",
       "      <td>0</td>\n",
       "      <td>1</td>\n",
       "      <td>0</td>\n",
       "      <td>0</td>\n",
       "      <td>1</td>\n",
       "      <td>0</td>\n",
       "      <td>0</td>\n",
       "      <td>1</td>\n",
       "      <td>...</td>\n",
       "      <td>0</td>\n",
       "      <td>0</td>\n",
       "      <td>1</td>\n",
       "      <td>0</td>\n",
       "      <td>0</td>\n",
       "      <td>1</td>\n",
       "      <td>0</td>\n",
       "      <td>0.680018</td>\n",
       "      <td>-0.948757</td>\n",
       "      <td>0.102242</td>\n",
       "    </tr>\n",
       "    <tr>\n",
       "      <th>4</th>\n",
       "      <td>0</td>\n",
       "      <td>0</td>\n",
       "      <td>1</td>\n",
       "      <td>0</td>\n",
       "      <td>0</td>\n",
       "      <td>1</td>\n",
       "      <td>0</td>\n",
       "      <td>0</td>\n",
       "      <td>0</td>\n",
       "      <td>1</td>\n",
       "      <td>...</td>\n",
       "      <td>0</td>\n",
       "      <td>1</td>\n",
       "      <td>0</td>\n",
       "      <td>0</td>\n",
       "      <td>0</td>\n",
       "      <td>1</td>\n",
       "      <td>0</td>\n",
       "      <td>-0.812243</td>\n",
       "      <td>-0.615493</td>\n",
       "      <td>0.102242</td>\n",
       "    </tr>\n",
       "  </tbody>\n",
       "</table>\n",
       "<p>5 rows × 21 columns</p>\n",
       "</div>"
      ],
      "text/plain": [
       "   hypertension  heart_disease  gender_Female  gender_Male  gender_Other  \\\n",
       "0             0              0              0            1             0   \n",
       "1             0              0              0            1             0   \n",
       "2             0              0              1            0             0   \n",
       "3             0              0              0            1             0   \n",
       "4             0              0              1            0             0   \n",
       "\n",
       "   ever_married_No  ever_married_Yes  work_type_Govt_job  \\\n",
       "0                0                 1                   0   \n",
       "1                0                 1                   0   \n",
       "2                0                 1                   0   \n",
       "3                0                 1                   0   \n",
       "4                1                 0                   0   \n",
       "\n",
       "   work_type_Never_worked  work_type_Private  ...  work_type_children  \\\n",
       "0                       0                  1  ...                   0   \n",
       "1                       0                  1  ...                   0   \n",
       "2                       0                  1  ...                   0   \n",
       "3                       0                  1  ...                   0   \n",
       "4                       0                  1  ...                   0   \n",
       "\n",
       "   Residence_type_Rural  Residence_type_Urban  smoking_status_Unknown  \\\n",
       "0                     0                     1                       0   \n",
       "1                     1                     0                       0   \n",
       "2                     1                     0                       1   \n",
       "3                     0                     1                       0   \n",
       "4                     1                     0                       0   \n",
       "\n",
       "   smoking_status_formerly smoked  smoking_status_never smoked  \\\n",
       "0                               0                            1   \n",
       "1                               1                            0   \n",
       "2                               0                            0   \n",
       "3                               0                            1   \n",
       "4                               0                            1   \n",
       "\n",
       "   smoking_status_smokes       age  avg_glucose_level       bmi  \n",
       "0                      0 -0.625710          -0.373297  0.444397  \n",
       "1                      0 -0.392544          -0.416084 -0.626698  \n",
       "2                      0  0.027154           0.547988  1.813018  \n",
       "3                      0  0.680018          -0.948757  0.102242  \n",
       "4                      0 -0.812243          -0.615493  0.102242  \n",
       "\n",
       "[5 rows x 21 columns]"
      ]
     },
     "execution_count": 16,
     "metadata": {},
     "output_type": "execute_result"
    }
   ],
   "source": [
    "X_train=pd.concat([X_cat1e_train,X_num_train],axis=1)\n",
    "X_test=pd.concat([X_cat1e_test,X_num_test],axis=1)\n",
    "X_train.head()"
   ]
  },
  {
   "cell_type": "code",
   "execution_count": 17,
   "id": "b347a150",
   "metadata": {
    "execution": {
     "iopub.execute_input": "2023-01-14T19:57:36.433335Z",
     "iopub.status.busy": "2023-01-14T19:57:36.432906Z",
     "iopub.status.idle": "2023-01-14T19:57:44.012497Z",
     "shell.execute_reply": "2023-01-14T19:57:44.010252Z"
    },
    "papermill": {
     "duration": 7.596147,
     "end_time": "2023-01-14T19:57:44.017168",
     "exception": false,
     "start_time": "2023-01-14T19:57:36.421021",
     "status": "completed"
    },
    "tags": []
   },
   "outputs": [
    {
     "name": "stdout",
     "output_type": "stream",
     "text": [
      "Best value for alpha is:  0.0196382800192977\n"
     ]
    }
   ],
   "source": [
    "from sklearn.model_selection import GridSearchCV\n",
    "from sklearn.linear_model import Lasso\n",
    "\n",
    "lasso = Lasso(random_state=0, max_iter=10000)\n",
    "alphas = np.logspace(-4, -0.5, 30)\n",
    "#alphas = np.array([0, 0.01, 0.02, 0.03, 0.05, 0.1, 0.5, 1.0, 3.0, 5.0])\n",
    "grid1 = GridSearchCV(estimator=lasso, cv=5, scoring='roc_auc', param_grid=dict(alpha=alphas))\n",
    "grid1.fit(X_train, y_train)\n",
    "print('Best value for alpha is: ', grid1.best_estimator_.alpha)"
   ]
  },
  {
   "cell_type": "markdown",
   "id": "7a6f53da",
   "metadata": {
    "papermill": {
     "duration": 0.033053,
     "end_time": "2023-01-14T19:57:44.094996",
     "exception": false,
     "start_time": "2023-01-14T19:57:44.061943",
     "status": "completed"
    },
    "tags": []
   },
   "source": [
    "Scaling also done so need of normalizing"
   ]
  },
  {
   "cell_type": "code",
   "execution_count": 18,
   "id": "a9baaf19",
   "metadata": {
    "execution": {
     "iopub.execute_input": "2023-01-14T19:57:44.134071Z",
     "iopub.status.busy": "2023-01-14T19:57:44.133577Z",
     "iopub.status.idle": "2023-01-14T19:57:44.166703Z",
     "shell.execute_reply": "2023-01-14T19:57:44.164969Z"
    },
    "papermill": {
     "duration": 0.052997,
     "end_time": "2023-01-14T19:57:44.174482",
     "exception": false,
     "start_time": "2023-01-14T19:57:44.121485",
     "status": "completed"
    },
    "tags": []
   },
   "outputs": [
    {
     "name": "stderr",
     "output_type": "stream",
     "text": [
      "/opt/conda/lib/python3.7/site-packages/sklearn/linear_model/_base.py:155: FutureWarning: 'normalize' was deprecated in version 1.0 and will be removed in 1.2. Please leave the normalize parameter to its default value to silence this warning. The default behavior of this estimator is to not do any normalization. If normalization is needed please use sklearn.preprocessing.StandardScaler instead.\n",
      "  FutureWarning,\n"
     ]
    },
    {
     "data": {
      "text/plain": [
       "Lasso(alpha=0.0196, normalize=False)"
      ]
     },
     "execution_count": 18,
     "metadata": {},
     "output_type": "execute_result"
    }
   ],
   "source": [
    "lassoReg = Lasso(alpha=0.0196,normalize=False)\n",
    "lassoReg.fit(X_train,y_train)"
   ]
  },
  {
   "cell_type": "markdown",
   "id": "675f9619",
   "metadata": {
    "papermill": {
     "duration": 0.02691,
     "end_time": "2023-01-14T19:57:44.228617",
     "exception": false,
     "start_time": "2023-01-14T19:57:44.201707",
     "status": "completed"
    },
    "tags": []
   },
   "source": [
    "printing coefficients for formality"
   ]
  },
  {
   "cell_type": "code",
   "execution_count": 19,
   "id": "e366e3c7",
   "metadata": {
    "execution": {
     "iopub.execute_input": "2023-01-14T19:57:44.280734Z",
     "iopub.status.busy": "2023-01-14T19:57:44.280304Z",
     "iopub.status.idle": "2023-01-14T19:57:44.288566Z",
     "shell.execute_reply": "2023-01-14T19:57:44.286222Z"
    },
    "papermill": {
     "duration": 0.035157,
     "end_time": "2023-01-14T19:57:44.290974",
     "exception": false,
     "start_time": "2023-01-14T19:57:44.255817",
     "status": "completed"
    },
    "tags": []
   },
   "outputs": [
    {
     "name": "stdout",
     "output_type": "stream",
     "text": [
      "[ 0.          0.         -0.          0.          0.          0.\n",
      " -0.         -0.         -0.         -0.          0.          0.\n",
      "  0.         -0.          0.          0.         -0.          0.\n",
      "  0.03167165  0.00665272 -0.        ]\n"
     ]
    }
   ],
   "source": [
    "# Checking the coefficients\n",
    "print(lassoReg.coef_)"
   ]
  },
  {
   "cell_type": "code",
   "execution_count": 20,
   "id": "dc0b8b80",
   "metadata": {
    "execution": {
     "iopub.execute_input": "2023-01-14T19:57:44.314263Z",
     "iopub.status.busy": "2023-01-14T19:57:44.313750Z",
     "iopub.status.idle": "2023-01-14T19:57:44.328880Z",
     "shell.execute_reply": "2023-01-14T19:57:44.327031Z"
    },
    "papermill": {
     "duration": 0.032047,
     "end_time": "2023-01-14T19:57:44.333564",
     "exception": false,
     "start_time": "2023-01-14T19:57:44.301517",
     "status": "completed"
    },
    "tags": []
   },
   "outputs": [],
   "source": [
    "y_pred = lassoReg.predict(X_test)"
   ]
  },
  {
   "cell_type": "markdown",
   "id": "ac2046d5",
   "metadata": {
    "papermill": {
     "duration": 0.026387,
     "end_time": "2023-01-14T19:57:44.386974",
     "exception": false,
     "start_time": "2023-01-14T19:57:44.360587",
     "status": "completed"
    },
    "tags": []
   },
   "source": [
    "time to submit predictions"
   ]
  },
  {
   "cell_type": "code",
   "execution_count": 21,
   "id": "d192bc9b",
   "metadata": {
    "execution": {
     "iopub.execute_input": "2023-01-14T19:57:44.442853Z",
     "iopub.status.busy": "2023-01-14T19:57:44.442001Z",
     "iopub.status.idle": "2023-01-14T19:57:44.480600Z",
     "shell.execute_reply": "2023-01-14T19:57:44.479569Z"
    },
    "papermill": {
     "duration": 0.069547,
     "end_time": "2023-01-14T19:57:44.482986",
     "exception": false,
     "start_time": "2023-01-14T19:57:44.413439",
     "status": "completed"
    },
    "tags": []
   },
   "outputs": [
    {
     "name": "stdout",
     "output_type": "stream",
     "text": [
      "Successful submission\n"
     ]
    }
   ],
   "source": [
    "output=pd.DataFrame({'id':test_data.id,'stroke':y_pred})\n",
    "output.to_csv('submissions.csv',index=False)\n",
    "print(\"Successful submission\")"
   ]
  },
  {
   "cell_type": "markdown",
   "id": "560e35c9",
   "metadata": {
    "papermill": {
     "duration": 0.010119,
     "end_time": "2023-01-14T19:57:44.503604",
     "exception": false,
     "start_time": "2023-01-14T19:57:44.493485",
     "status": "completed"
    },
    "tags": []
   },
   "source": [
    "time to check submission table"
   ]
  }
 ],
 "metadata": {
  "kernelspec": {
   "display_name": "Python 3",
   "language": "python",
   "name": "python3"
  },
  "language_info": {
   "codemirror_mode": {
    "name": "ipython",
    "version": 3
   },
   "file_extension": ".py",
   "mimetype": "text/x-python",
   "name": "python",
   "nbconvert_exporter": "python",
   "pygments_lexer": "ipython3",
   "version": "3.7.12"
  },
  "papermill": {
   "default_parameters": {},
   "duration": 21.472875,
   "end_time": "2023-01-14T19:57:45.640237",
   "environment_variables": {},
   "exception": null,
   "input_path": "__notebook__.ipynb",
   "output_path": "__notebook__.ipynb",
   "parameters": {},
   "start_time": "2023-01-14T19:57:24.167362",
   "version": "2.3.4"
  }
 },
 "nbformat": 4,
 "nbformat_minor": 5
}
