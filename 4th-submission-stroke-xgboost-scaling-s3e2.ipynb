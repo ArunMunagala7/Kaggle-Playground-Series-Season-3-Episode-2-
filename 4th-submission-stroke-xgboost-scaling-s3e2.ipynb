{
 "cells": [
  {
   "cell_type": "code",
   "execution_count": 1,
   "id": "2ca25802",
   "metadata": {
    "_cell_guid": "b1076dfc-b9ad-4769-8c92-a6c4dae69d19",
    "_uuid": "8f2839f25d086af736a60e9eeb907d3b93b6e0e5",
    "execution": {
     "iopub.execute_input": "2023-01-12T19:34:08.688759Z",
     "iopub.status.busy": "2023-01-12T19:34:08.687987Z",
     "iopub.status.idle": "2023-01-12T19:34:08.705575Z",
     "shell.execute_reply": "2023-01-12T19:34:08.704134Z"
    },
    "papermill": {
     "duration": 0.030356,
     "end_time": "2023-01-12T19:34:08.709062",
     "exception": false,
     "start_time": "2023-01-12T19:34:08.678706",
     "status": "completed"
    },
    "tags": []
   },
   "outputs": [
    {
     "name": "stdout",
     "output_type": "stream",
     "text": [
      "/kaggle/input/playground-series-s3e2/sample_submission.csv\n",
      "/kaggle/input/playground-series-s3e2/train.csv\n",
      "/kaggle/input/playground-series-s3e2/test.csv\n"
     ]
    }
   ],
   "source": [
    "# This Python 3 environment comes with many helpful analytics libraries installed\n",
    "# It is defined by the kaggle/python Docker image: https://github.com/kaggle/docker-python\n",
    "# For example, here's several helpful packages to load\n",
    "\n",
    "import numpy as np # linear algebra\n",
    "import pandas as pd # data processing, CSV file I/O (e.g. pd.read_csv)\n",
    "\n",
    "# Input data files are available in the read-only \"../input/\" directory\n",
    "# For example, running this (by clicking run or pressing Shift+Enter) will list all files under the input directory\n",
    "\n",
    "import os\n",
    "for dirname, _, filenames in os.walk('/kaggle/input'):\n",
    "    for filename in filenames:\n",
    "        print(os.path.join(dirname, filename))\n",
    "\n",
    "# You can write up to 20GB to the current directory (/kaggle/working/) that gets preserved as output when you create a version using \"Save & Run All\" \n",
    "# You can also write temporary files to /kaggle/temp/, but they won't be saved outside of the current session"
   ]
  },
  {
   "cell_type": "markdown",
   "id": "36c18ae0",
   "metadata": {
    "papermill": {
     "duration": 0.004044,
     "end_time": "2023-01-12T19:34:08.719672",
     "exception": false,
     "start_time": "2023-01-12T19:34:08.715628",
     "status": "completed"
    },
    "tags": []
   },
   "source": [
    "importing said test data"
   ]
  },
  {
   "cell_type": "code",
   "execution_count": 2,
   "id": "adec9831",
   "metadata": {
    "execution": {
     "iopub.execute_input": "2023-01-12T19:34:08.730654Z",
     "iopub.status.busy": "2023-01-12T19:34:08.730144Z",
     "iopub.status.idle": "2023-01-12T19:34:08.812107Z",
     "shell.execute_reply": "2023-01-12T19:34:08.810357Z"
    },
    "papermill": {
     "duration": 0.092083,
     "end_time": "2023-01-12T19:34:08.816062",
     "exception": false,
     "start_time": "2023-01-12T19:34:08.723979",
     "status": "completed"
    },
    "tags": []
   },
   "outputs": [
    {
     "data": {
      "text/html": [
       "<div>\n",
       "<style scoped>\n",
       "    .dataframe tbody tr th:only-of-type {\n",
       "        vertical-align: middle;\n",
       "    }\n",
       "\n",
       "    .dataframe tbody tr th {\n",
       "        vertical-align: top;\n",
       "    }\n",
       "\n",
       "    .dataframe thead th {\n",
       "        text-align: right;\n",
       "    }\n",
       "</style>\n",
       "<table border=\"1\" class=\"dataframe\">\n",
       "  <thead>\n",
       "    <tr style=\"text-align: right;\">\n",
       "      <th></th>\n",
       "      <th>id</th>\n",
       "      <th>gender</th>\n",
       "      <th>age</th>\n",
       "      <th>hypertension</th>\n",
       "      <th>heart_disease</th>\n",
       "      <th>ever_married</th>\n",
       "      <th>work_type</th>\n",
       "      <th>Residence_type</th>\n",
       "      <th>avg_glucose_level</th>\n",
       "      <th>bmi</th>\n",
       "      <th>smoking_status</th>\n",
       "      <th>stroke</th>\n",
       "    </tr>\n",
       "  </thead>\n",
       "  <tbody>\n",
       "    <tr>\n",
       "      <th>0</th>\n",
       "      <td>0</td>\n",
       "      <td>Male</td>\n",
       "      <td>28.0</td>\n",
       "      <td>0</td>\n",
       "      <td>0</td>\n",
       "      <td>Yes</td>\n",
       "      <td>Private</td>\n",
       "      <td>Urban</td>\n",
       "      <td>79.53</td>\n",
       "      <td>31.1</td>\n",
       "      <td>never smoked</td>\n",
       "      <td>0</td>\n",
       "    </tr>\n",
       "    <tr>\n",
       "      <th>1</th>\n",
       "      <td>1</td>\n",
       "      <td>Male</td>\n",
       "      <td>33.0</td>\n",
       "      <td>0</td>\n",
       "      <td>0</td>\n",
       "      <td>Yes</td>\n",
       "      <td>Private</td>\n",
       "      <td>Rural</td>\n",
       "      <td>78.44</td>\n",
       "      <td>23.9</td>\n",
       "      <td>formerly smoked</td>\n",
       "      <td>0</td>\n",
       "    </tr>\n",
       "    <tr>\n",
       "      <th>2</th>\n",
       "      <td>2</td>\n",
       "      <td>Female</td>\n",
       "      <td>42.0</td>\n",
       "      <td>0</td>\n",
       "      <td>0</td>\n",
       "      <td>Yes</td>\n",
       "      <td>Private</td>\n",
       "      <td>Rural</td>\n",
       "      <td>103.00</td>\n",
       "      <td>40.3</td>\n",
       "      <td>Unknown</td>\n",
       "      <td>0</td>\n",
       "    </tr>\n",
       "    <tr>\n",
       "      <th>3</th>\n",
       "      <td>3</td>\n",
       "      <td>Male</td>\n",
       "      <td>56.0</td>\n",
       "      <td>0</td>\n",
       "      <td>0</td>\n",
       "      <td>Yes</td>\n",
       "      <td>Private</td>\n",
       "      <td>Urban</td>\n",
       "      <td>64.87</td>\n",
       "      <td>28.8</td>\n",
       "      <td>never smoked</td>\n",
       "      <td>0</td>\n",
       "    </tr>\n",
       "    <tr>\n",
       "      <th>4</th>\n",
       "      <td>4</td>\n",
       "      <td>Female</td>\n",
       "      <td>24.0</td>\n",
       "      <td>0</td>\n",
       "      <td>0</td>\n",
       "      <td>No</td>\n",
       "      <td>Private</td>\n",
       "      <td>Rural</td>\n",
       "      <td>73.36</td>\n",
       "      <td>28.8</td>\n",
       "      <td>never smoked</td>\n",
       "      <td>0</td>\n",
       "    </tr>\n",
       "  </tbody>\n",
       "</table>\n",
       "</div>"
      ],
      "text/plain": [
       "   id  gender   age  hypertension  heart_disease ever_married work_type  \\\n",
       "0   0    Male  28.0             0              0          Yes   Private   \n",
       "1   1    Male  33.0             0              0          Yes   Private   \n",
       "2   2  Female  42.0             0              0          Yes   Private   \n",
       "3   3    Male  56.0             0              0          Yes   Private   \n",
       "4   4  Female  24.0             0              0           No   Private   \n",
       "\n",
       "  Residence_type  avg_glucose_level   bmi   smoking_status  stroke  \n",
       "0          Urban              79.53  31.1     never smoked       0  \n",
       "1          Rural              78.44  23.9  formerly smoked       0  \n",
       "2          Rural             103.00  40.3          Unknown       0  \n",
       "3          Urban              64.87  28.8     never smoked       0  \n",
       "4          Rural              73.36  28.8     never smoked       0  "
      ]
     },
     "execution_count": 2,
     "metadata": {},
     "output_type": "execute_result"
    }
   ],
   "source": [
    "train_data=pd.read_csv('/kaggle/input/playground-series-s3e2/train.csv')\n",
    "train_data.head()"
   ]
  },
  {
   "cell_type": "code",
   "execution_count": 3,
   "id": "1d970738",
   "metadata": {
    "execution": {
     "iopub.execute_input": "2023-01-12T19:34:08.827863Z",
     "iopub.status.busy": "2023-01-12T19:34:08.826487Z",
     "iopub.status.idle": "2023-01-12T19:34:08.841677Z",
     "shell.execute_reply": "2023-01-12T19:34:08.840154Z"
    },
    "papermill": {
     "duration": 0.02408,
     "end_time": "2023-01-12T19:34:08.844831",
     "exception": false,
     "start_time": "2023-01-12T19:34:08.820751",
     "status": "completed"
    },
    "tags": []
   },
   "outputs": [],
   "source": [
    "num=['age','bmi','avg_glucose_level']\n",
    "X_train=train_data[num]"
   ]
  },
  {
   "cell_type": "code",
   "execution_count": 4,
   "id": "76cd811e",
   "metadata": {
    "execution": {
     "iopub.execute_input": "2023-01-12T19:34:08.856227Z",
     "iopub.status.busy": "2023-01-12T19:34:08.854965Z",
     "iopub.status.idle": "2023-01-12T19:34:08.887981Z",
     "shell.execute_reply": "2023-01-12T19:34:08.886939Z"
    },
    "papermill": {
     "duration": 0.041542,
     "end_time": "2023-01-12T19:34:08.890745",
     "exception": false,
     "start_time": "2023-01-12T19:34:08.849203",
     "status": "completed"
    },
    "tags": []
   },
   "outputs": [],
   "source": [
    "test_data=pd.read_csv('/kaggle/input/playground-series-s3e2/test.csv')\n",
    "X_test=test_data[num]"
   ]
  },
  {
   "cell_type": "markdown",
   "id": "6125cf6b",
   "metadata": {
    "papermill": {
     "duration": 0.003976,
     "end_time": "2023-01-12T19:34:08.899243",
     "exception": false,
     "start_time": "2023-01-12T19:34:08.895267",
     "status": "completed"
    },
    "tags": []
   },
   "source": [
    "lets take out target feature now"
   ]
  },
  {
   "cell_type": "code",
   "execution_count": 5,
   "id": "62337b85",
   "metadata": {
    "execution": {
     "iopub.execute_input": "2023-01-12T19:34:08.910093Z",
     "iopub.status.busy": "2023-01-12T19:34:08.908910Z",
     "iopub.status.idle": "2023-01-12T19:34:08.921200Z",
     "shell.execute_reply": "2023-01-12T19:34:08.920125Z"
    },
    "papermill": {
     "duration": 0.020143,
     "end_time": "2023-01-12T19:34:08.923587",
     "exception": false,
     "start_time": "2023-01-12T19:34:08.903444",
     "status": "completed"
    },
    "tags": []
   },
   "outputs": [
    {
     "data": {
      "text/plain": [
       "0    0\n",
       "1    0\n",
       "2    0\n",
       "3    0\n",
       "4    0\n",
       "Name: stroke, dtype: int64"
      ]
     },
     "execution_count": 5,
     "metadata": {},
     "output_type": "execute_result"
    }
   ],
   "source": [
    "X=train_data.copy()\n",
    "y_train=X.pop('stroke')\n",
    "y_train.head()"
   ]
  },
  {
   "cell_type": "markdown",
   "id": "c93417a7",
   "metadata": {
    "papermill": {
     "duration": 0.00405,
     "end_time": "2023-01-12T19:34:08.932169",
     "exception": false,
     "start_time": "2023-01-12T19:34:08.928119",
     "status": "completed"
    },
    "tags": []
   },
   "source": [
    "scaling the feature values using the StandardScaler with the hope of getting a better AUC score"
   ]
  },
  {
   "cell_type": "code",
   "execution_count": 6,
   "id": "f2153825",
   "metadata": {
    "execution": {
     "iopub.execute_input": "2023-01-12T19:34:08.943628Z",
     "iopub.status.busy": "2023-01-12T19:34:08.942828Z",
     "iopub.status.idle": "2023-01-12T19:34:10.069905Z",
     "shell.execute_reply": "2023-01-12T19:34:10.068620Z"
    },
    "papermill": {
     "duration": 1.136068,
     "end_time": "2023-01-12T19:34:10.073011",
     "exception": false,
     "start_time": "2023-01-12T19:34:08.936943",
     "status": "completed"
    },
    "tags": []
   },
   "outputs": [],
   "source": [
    "from sklearn.preprocessing import StandardScaler\n",
    "s=StandardScaler()\n",
    "X_train=s.fit_transform(X_train)\n",
    "X_test=s.transform(X_test)"
   ]
  },
  {
   "cell_type": "code",
   "execution_count": 7,
   "id": "2bbca9b5",
   "metadata": {
    "execution": {
     "iopub.execute_input": "2023-01-12T19:34:10.083764Z",
     "iopub.status.busy": "2023-01-12T19:34:10.083346Z",
     "iopub.status.idle": "2023-01-12T19:34:20.539933Z",
     "shell.execute_reply": "2023-01-12T19:34:20.538654Z"
    },
    "papermill": {
     "duration": 10.465042,
     "end_time": "2023-01-12T19:34:20.542562",
     "exception": false,
     "start_time": "2023-01-12T19:34:10.077520",
     "status": "completed"
    },
    "tags": []
   },
   "outputs": [
    {
     "data": {
      "text/plain": [
       "XGBRegressor(base_score=0.5, booster='gbtree', callbacks=None,\n",
       "             colsample_bylevel=1, colsample_bynode=1, colsample_bytree=1,\n",
       "             early_stopping_rounds=None, enable_categorical=False,\n",
       "             eval_metric=None, gamma=0, gpu_id=-1, grow_policy='depthwise',\n",
       "             importance_type=None, interaction_constraints='',\n",
       "             learning_rate=0.01, max_bin=256, max_cat_to_onehot=4,\n",
       "             max_delta_step=0, max_depth=6, max_leaves=0, min_child_weight=1,\n",
       "             missing=nan, monotone_constraints='()', n_estimators=1000,\n",
       "             n_jobs=0, num_parallel_tree=1, predictor='auto', random_state=0,\n",
       "             reg_alpha=0, reg_lambda=1, ...)"
      ]
     },
     "execution_count": 7,
     "metadata": {},
     "output_type": "execute_result"
    }
   ],
   "source": [
    "from xgboost import XGBRegressor\n",
    "model=XGBRegressor(max_depth=6,learning_rate=0.01,n_estimators=1000)\n",
    "model.fit(X_train,y_train)"
   ]
  },
  {
   "cell_type": "markdown",
   "id": "3717ad43",
   "metadata": {
    "papermill": {
     "duration": 0.004559,
     "end_time": "2023-01-12T19:34:20.551927",
     "exception": false,
     "start_time": "2023-01-12T19:34:20.547368",
     "status": "completed"
    },
    "tags": []
   },
   "source": [
    "predicting values using scaled X_test values"
   ]
  },
  {
   "cell_type": "code",
   "execution_count": 8,
   "id": "0f9c6537",
   "metadata": {
    "execution": {
     "iopub.execute_input": "2023-01-12T19:34:20.562636Z",
     "iopub.status.busy": "2023-01-12T19:34:20.562230Z",
     "iopub.status.idle": "2023-01-12T19:34:20.666740Z",
     "shell.execute_reply": "2023-01-12T19:34:20.665705Z"
    },
    "papermill": {
     "duration": 0.113152,
     "end_time": "2023-01-12T19:34:20.669506",
     "exception": false,
     "start_time": "2023-01-12T19:34:20.556354",
     "status": "completed"
    },
    "tags": []
   },
   "outputs": [],
   "source": [
    "pred=model.predict(X_test)"
   ]
  },
  {
   "cell_type": "code",
   "execution_count": 9,
   "id": "bb353765",
   "metadata": {
    "execution": {
     "iopub.execute_input": "2023-01-12T19:34:20.680759Z",
     "iopub.status.busy": "2023-01-12T19:34:20.679929Z",
     "iopub.status.idle": "2023-01-12T19:34:20.711626Z",
     "shell.execute_reply": "2023-01-12T19:34:20.710153Z"
    },
    "papermill": {
     "duration": 0.04056,
     "end_time": "2023-01-12T19:34:20.714677",
     "exception": false,
     "start_time": "2023-01-12T19:34:20.674117",
     "status": "completed"
    },
    "tags": []
   },
   "outputs": [
    {
     "name": "stdout",
     "output_type": "stream",
     "text": [
      "Successful\n"
     ]
    }
   ],
   "source": [
    "output=pd.DataFrame({'id':test_data.id,'stroke':pred})\n",
    "output.to_csv('submissions.csv',index=False)\n",
    "print(\"Successful\")"
   ]
  },
  {
   "cell_type": "code",
   "execution_count": null,
   "id": "6d8bc677",
   "metadata": {
    "papermill": {
     "duration": 0.004358,
     "end_time": "2023-01-12T19:34:20.723706",
     "exception": false,
     "start_time": "2023-01-12T19:34:20.719348",
     "status": "completed"
    },
    "tags": []
   },
   "outputs": [],
   "source": []
  }
 ],
 "metadata": {
  "kernelspec": {
   "display_name": "Python 3",
   "language": "python",
   "name": "python3"
  },
  "language_info": {
   "codemirror_mode": {
    "name": "ipython",
    "version": 3
   },
   "file_extension": ".py",
   "mimetype": "text/x-python",
   "name": "python",
   "nbconvert_exporter": "python",
   "pygments_lexer": "ipython3",
   "version": "3.7.12"
  },
  "papermill": {
   "default_parameters": {},
   "duration": 22.08986,
   "end_time": "2023-01-12T19:34:21.452497",
   "environment_variables": {},
   "exception": null,
   "input_path": "__notebook__.ipynb",
   "output_path": "__notebook__.ipynb",
   "parameters": {},
   "start_time": "2023-01-12T19:33:59.362637",
   "version": "2.3.4"
  }
 },
 "nbformat": 4,
 "nbformat_minor": 5
}
