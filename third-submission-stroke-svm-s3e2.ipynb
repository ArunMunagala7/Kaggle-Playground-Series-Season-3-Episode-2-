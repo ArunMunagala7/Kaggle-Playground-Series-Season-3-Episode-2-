{
 "cells": [
  {
   "cell_type": "code",
   "execution_count": 1,
   "id": "caef585c",
   "metadata": {
    "_cell_guid": "b1076dfc-b9ad-4769-8c92-a6c4dae69d19",
    "_uuid": "8f2839f25d086af736a60e9eeb907d3b93b6e0e5",
    "execution": {
     "iopub.execute_input": "2023-01-12T19:16:57.769517Z",
     "iopub.status.busy": "2023-01-12T19:16:57.768255Z",
     "iopub.status.idle": "2023-01-12T19:16:57.786244Z",
     "shell.execute_reply": "2023-01-12T19:16:57.783971Z"
    },
    "papermill": {
     "duration": 0.028446,
     "end_time": "2023-01-12T19:16:57.789370",
     "exception": false,
     "start_time": "2023-01-12T19:16:57.760924",
     "status": "completed"
    },
    "tags": []
   },
   "outputs": [
    {
     "name": "stdout",
     "output_type": "stream",
     "text": [
      "/kaggle/input/playground-series-s3e2/sample_submission.csv\n",
      "/kaggle/input/playground-series-s3e2/train.csv\n",
      "/kaggle/input/playground-series-s3e2/test.csv\n"
     ]
    }
   ],
   "source": [
    "# This Python 3 environment comes with many helpful analytics libraries installed\n",
    "# It is defined by the kaggle/python Docker image: https://github.com/kaggle/docker-python\n",
    "# For example, here's several helpful packages to load\n",
    "\n",
    "import numpy as np # linear algebra\n",
    "import pandas as pd # data processing, CSV file I/O (e.g. pd.read_csv)\n",
    "\n",
    "# Input data files are available in the read-only \"../input/\" directory\n",
    "# For example, running this (by clicking run or pressing Shift+Enter) will list all files under the input directory\n",
    "\n",
    "import os\n",
    "for dirname, _, filenames in os.walk('/kaggle/input'):\n",
    "    for filename in filenames:\n",
    "        print(os.path.join(dirname, filename))\n",
    "\n",
    "# You can write up to 20GB to the current directory (/kaggle/working/) that gets preserved as output when you create a version using \"Save & Run All\" \n",
    "# You can also write temporary files to /kaggle/temp/, but they won't be saved outside of the current session"
   ]
  },
  {
   "cell_type": "markdown",
   "id": "b6cf3444",
   "metadata": {
    "papermill": {
     "duration": 0.005001,
     "end_time": "2023-01-12T19:16:57.799418",
     "exception": false,
     "start_time": "2023-01-12T19:16:57.794417",
     "status": "completed"
    },
    "tags": []
   },
   "source": [
    "importing said test data"
   ]
  },
  {
   "cell_type": "code",
   "execution_count": 2,
   "id": "674f3917",
   "metadata": {
    "execution": {
     "iopub.execute_input": "2023-01-12T19:16:57.810666Z",
     "iopub.status.busy": "2023-01-12T19:16:57.810237Z",
     "iopub.status.idle": "2023-01-12T19:16:57.896367Z",
     "shell.execute_reply": "2023-01-12T19:16:57.894999Z"
    },
    "papermill": {
     "duration": 0.095322,
     "end_time": "2023-01-12T19:16:57.899732",
     "exception": false,
     "start_time": "2023-01-12T19:16:57.804410",
     "status": "completed"
    },
    "tags": []
   },
   "outputs": [
    {
     "data": {
      "text/html": [
       "<div>\n",
       "<style scoped>\n",
       "    .dataframe tbody tr th:only-of-type {\n",
       "        vertical-align: middle;\n",
       "    }\n",
       "\n",
       "    .dataframe tbody tr th {\n",
       "        vertical-align: top;\n",
       "    }\n",
       "\n",
       "    .dataframe thead th {\n",
       "        text-align: right;\n",
       "    }\n",
       "</style>\n",
       "<table border=\"1\" class=\"dataframe\">\n",
       "  <thead>\n",
       "    <tr style=\"text-align: right;\">\n",
       "      <th></th>\n",
       "      <th>id</th>\n",
       "      <th>gender</th>\n",
       "      <th>age</th>\n",
       "      <th>hypertension</th>\n",
       "      <th>heart_disease</th>\n",
       "      <th>ever_married</th>\n",
       "      <th>work_type</th>\n",
       "      <th>Residence_type</th>\n",
       "      <th>avg_glucose_level</th>\n",
       "      <th>bmi</th>\n",
       "      <th>smoking_status</th>\n",
       "      <th>stroke</th>\n",
       "    </tr>\n",
       "  </thead>\n",
       "  <tbody>\n",
       "    <tr>\n",
       "      <th>0</th>\n",
       "      <td>0</td>\n",
       "      <td>Male</td>\n",
       "      <td>28.0</td>\n",
       "      <td>0</td>\n",
       "      <td>0</td>\n",
       "      <td>Yes</td>\n",
       "      <td>Private</td>\n",
       "      <td>Urban</td>\n",
       "      <td>79.53</td>\n",
       "      <td>31.1</td>\n",
       "      <td>never smoked</td>\n",
       "      <td>0</td>\n",
       "    </tr>\n",
       "    <tr>\n",
       "      <th>1</th>\n",
       "      <td>1</td>\n",
       "      <td>Male</td>\n",
       "      <td>33.0</td>\n",
       "      <td>0</td>\n",
       "      <td>0</td>\n",
       "      <td>Yes</td>\n",
       "      <td>Private</td>\n",
       "      <td>Rural</td>\n",
       "      <td>78.44</td>\n",
       "      <td>23.9</td>\n",
       "      <td>formerly smoked</td>\n",
       "      <td>0</td>\n",
       "    </tr>\n",
       "    <tr>\n",
       "      <th>2</th>\n",
       "      <td>2</td>\n",
       "      <td>Female</td>\n",
       "      <td>42.0</td>\n",
       "      <td>0</td>\n",
       "      <td>0</td>\n",
       "      <td>Yes</td>\n",
       "      <td>Private</td>\n",
       "      <td>Rural</td>\n",
       "      <td>103.00</td>\n",
       "      <td>40.3</td>\n",
       "      <td>Unknown</td>\n",
       "      <td>0</td>\n",
       "    </tr>\n",
       "    <tr>\n",
       "      <th>3</th>\n",
       "      <td>3</td>\n",
       "      <td>Male</td>\n",
       "      <td>56.0</td>\n",
       "      <td>0</td>\n",
       "      <td>0</td>\n",
       "      <td>Yes</td>\n",
       "      <td>Private</td>\n",
       "      <td>Urban</td>\n",
       "      <td>64.87</td>\n",
       "      <td>28.8</td>\n",
       "      <td>never smoked</td>\n",
       "      <td>0</td>\n",
       "    </tr>\n",
       "    <tr>\n",
       "      <th>4</th>\n",
       "      <td>4</td>\n",
       "      <td>Female</td>\n",
       "      <td>24.0</td>\n",
       "      <td>0</td>\n",
       "      <td>0</td>\n",
       "      <td>No</td>\n",
       "      <td>Private</td>\n",
       "      <td>Rural</td>\n",
       "      <td>73.36</td>\n",
       "      <td>28.8</td>\n",
       "      <td>never smoked</td>\n",
       "      <td>0</td>\n",
       "    </tr>\n",
       "  </tbody>\n",
       "</table>\n",
       "</div>"
      ],
      "text/plain": [
       "   id  gender   age  hypertension  heart_disease ever_married work_type  \\\n",
       "0   0    Male  28.0             0              0          Yes   Private   \n",
       "1   1    Male  33.0             0              0          Yes   Private   \n",
       "2   2  Female  42.0             0              0          Yes   Private   \n",
       "3   3    Male  56.0             0              0          Yes   Private   \n",
       "4   4  Female  24.0             0              0           No   Private   \n",
       "\n",
       "  Residence_type  avg_glucose_level   bmi   smoking_status  stroke  \n",
       "0          Urban              79.53  31.1     never smoked       0  \n",
       "1          Rural              78.44  23.9  formerly smoked       0  \n",
       "2          Rural             103.00  40.3          Unknown       0  \n",
       "3          Urban              64.87  28.8     never smoked       0  \n",
       "4          Rural              73.36  28.8     never smoked       0  "
      ]
     },
     "execution_count": 2,
     "metadata": {},
     "output_type": "execute_result"
    }
   ],
   "source": [
    "train_data=pd.read_csv('/kaggle/input/playground-series-s3e2/train.csv')\n",
    "train_data.head()"
   ]
  },
  {
   "cell_type": "code",
   "execution_count": null,
   "id": "f6385c43",
   "metadata": {
    "papermill": {
     "duration": 0.00463,
     "end_time": "2023-01-12T19:16:57.910643",
     "exception": false,
     "start_time": "2023-01-12T19:16:57.906013",
     "status": "completed"
    },
    "tags": []
   },
   "outputs": [],
   "source": []
  },
  {
   "cell_type": "code",
   "execution_count": 3,
   "id": "7581c02e",
   "metadata": {
    "execution": {
     "iopub.execute_input": "2023-01-12T19:16:57.922063Z",
     "iopub.status.busy": "2023-01-12T19:16:57.921562Z",
     "iopub.status.idle": "2023-01-12T19:16:57.936078Z",
     "shell.execute_reply": "2023-01-12T19:16:57.935117Z"
    },
    "papermill": {
     "duration": 0.023313,
     "end_time": "2023-01-12T19:16:57.938662",
     "exception": false,
     "start_time": "2023-01-12T19:16:57.915349",
     "status": "completed"
    },
    "tags": []
   },
   "outputs": [],
   "source": [
    "num=['age','bmi','avg_glucose_level']\n",
    "X_num=train_data[num]"
   ]
  },
  {
   "cell_type": "markdown",
   "id": "caa1b572",
   "metadata": {
    "papermill": {
     "duration": 0.005171,
     "end_time": "2023-01-12T19:16:57.948600",
     "exception": false,
     "start_time": "2023-01-12T19:16:57.943429",
     "status": "completed"
    },
    "tags": []
   },
   "source": [
    "lets take out target feature now"
   ]
  },
  {
   "cell_type": "code",
   "execution_count": 4,
   "id": "193a01b3",
   "metadata": {
    "execution": {
     "iopub.execute_input": "2023-01-12T19:16:57.960358Z",
     "iopub.status.busy": "2023-01-12T19:16:57.959916Z",
     "iopub.status.idle": "2023-01-12T19:16:57.972133Z",
     "shell.execute_reply": "2023-01-12T19:16:57.970777Z"
    },
    "papermill": {
     "duration": 0.021564,
     "end_time": "2023-01-12T19:16:57.974801",
     "exception": false,
     "start_time": "2023-01-12T19:16:57.953237",
     "status": "completed"
    },
    "tags": []
   },
   "outputs": [
    {
     "data": {
      "text/plain": [
       "0    0\n",
       "1    0\n",
       "2    0\n",
       "3    0\n",
       "4    0\n",
       "Name: stroke, dtype: int64"
      ]
     },
     "execution_count": 4,
     "metadata": {},
     "output_type": "execute_result"
    }
   ],
   "source": [
    "X=train_data.copy()\n",
    "y_train=X.pop('stroke')\n",
    "y_train.head()"
   ]
  },
  {
   "cell_type": "markdown",
   "id": "4c31fb72",
   "metadata": {
    "papermill": {
     "duration": 0.00496,
     "end_time": "2023-01-12T19:16:57.984705",
     "exception": false,
     "start_time": "2023-01-12T19:16:57.979745",
     "status": "completed"
    },
    "tags": []
   },
   "source": [
    "importing and accessing important features of the test dataset"
   ]
  },
  {
   "cell_type": "code",
   "execution_count": 5,
   "id": "f21fc580",
   "metadata": {
    "execution": {
     "iopub.execute_input": "2023-01-12T19:16:57.996801Z",
     "iopub.status.busy": "2023-01-12T19:16:57.996313Z",
     "iopub.status.idle": "2023-01-12T19:16:58.042855Z",
     "shell.execute_reply": "2023-01-12T19:16:58.041276Z"
    },
    "papermill": {
     "duration": 0.056318,
     "end_time": "2023-01-12T19:16:58.046092",
     "exception": false,
     "start_time": "2023-01-12T19:16:57.989774",
     "status": "completed"
    },
    "tags": []
   },
   "outputs": [
    {
     "data": {
      "text/html": [
       "<div>\n",
       "<style scoped>\n",
       "    .dataframe tbody tr th:only-of-type {\n",
       "        vertical-align: middle;\n",
       "    }\n",
       "\n",
       "    .dataframe tbody tr th {\n",
       "        vertical-align: top;\n",
       "    }\n",
       "\n",
       "    .dataframe thead th {\n",
       "        text-align: right;\n",
       "    }\n",
       "</style>\n",
       "<table border=\"1\" class=\"dataframe\">\n",
       "  <thead>\n",
       "    <tr style=\"text-align: right;\">\n",
       "      <th></th>\n",
       "      <th>age</th>\n",
       "      <th>bmi</th>\n",
       "      <th>avg_glucose_level</th>\n",
       "    </tr>\n",
       "  </thead>\n",
       "  <tbody>\n",
       "    <tr>\n",
       "      <th>0</th>\n",
       "      <td>57.0</td>\n",
       "      <td>33.4</td>\n",
       "      <td>82.54</td>\n",
       "    </tr>\n",
       "    <tr>\n",
       "      <th>1</th>\n",
       "      <td>70.0</td>\n",
       "      <td>28.5</td>\n",
       "      <td>72.06</td>\n",
       "    </tr>\n",
       "    <tr>\n",
       "      <th>2</th>\n",
       "      <td>5.0</td>\n",
       "      <td>19.5</td>\n",
       "      <td>103.72</td>\n",
       "    </tr>\n",
       "    <tr>\n",
       "      <th>3</th>\n",
       "      <td>56.0</td>\n",
       "      <td>41.4</td>\n",
       "      <td>69.24</td>\n",
       "    </tr>\n",
       "    <tr>\n",
       "      <th>4</th>\n",
       "      <td>32.0</td>\n",
       "      <td>30.1</td>\n",
       "      <td>111.15</td>\n",
       "    </tr>\n",
       "  </tbody>\n",
       "</table>\n",
       "</div>"
      ],
      "text/plain": [
       "    age   bmi  avg_glucose_level\n",
       "0  57.0  33.4              82.54\n",
       "1  70.0  28.5              72.06\n",
       "2   5.0  19.5             103.72\n",
       "3  56.0  41.4              69.24\n",
       "4  32.0  30.1             111.15"
      ]
     },
     "execution_count": 5,
     "metadata": {},
     "output_type": "execute_result"
    }
   ],
   "source": [
    "test_data=pd.read_csv('/kaggle/input/playground-series-s3e2/test.csv')\n",
    "X_test=test_data[num]\n",
    "X_test.head()"
   ]
  },
  {
   "cell_type": "markdown",
   "id": "701d283a",
   "metadata": {
    "papermill": {
     "duration": 0.004735,
     "end_time": "2023-01-12T19:16:58.055925",
     "exception": false,
     "start_time": "2023-01-12T19:16:58.051190",
     "status": "completed"
    },
    "tags": []
   },
   "source": [
    "X_train and scaling"
   ]
  },
  {
   "cell_type": "code",
   "execution_count": 6,
   "id": "a50f3cca",
   "metadata": {
    "execution": {
     "iopub.execute_input": "2023-01-12T19:16:58.069320Z",
     "iopub.status.busy": "2023-01-12T19:16:58.068566Z",
     "iopub.status.idle": "2023-01-12T19:16:59.344108Z",
     "shell.execute_reply": "2023-01-12T19:16:59.342878Z"
    },
    "papermill": {
     "duration": 1.287071,
     "end_time": "2023-01-12T19:16:59.347987",
     "exception": false,
     "start_time": "2023-01-12T19:16:58.060916",
     "status": "completed"
    },
    "tags": []
   },
   "outputs": [],
   "source": [
    "X_train=X_num\n",
    "from sklearn.preprocessing import StandardScaler\n",
    "s=StandardScaler()\n",
    "X_train=s.fit_transform(X_num)\n",
    "X_test_scaled=s.transform(X_test)"
   ]
  },
  {
   "cell_type": "code",
   "execution_count": 7,
   "id": "53b79e80",
   "metadata": {
    "execution": {
     "iopub.execute_input": "2023-01-12T19:16:59.360808Z",
     "iopub.status.busy": "2023-01-12T19:16:59.360388Z",
     "iopub.status.idle": "2023-01-12T19:17:03.126396Z",
     "shell.execute_reply": "2023-01-12T19:17:03.125107Z"
    },
    "papermill": {
     "duration": 3.775913,
     "end_time": "2023-01-12T19:17:03.129369",
     "exception": false,
     "start_time": "2023-01-12T19:16:59.353456",
     "status": "completed"
    },
    "tags": []
   },
   "outputs": [
    {
     "data": {
      "text/plain": [
       "SVR()"
      ]
     },
     "execution_count": 7,
     "metadata": {},
     "output_type": "execute_result"
    }
   ],
   "source": [
    "from sklearn.svm import SVR\n",
    "model=SVR()\n",
    "#model=XGBRegressor(max_depth=6,learning_rate=0.01,n_estimators=1000)\n",
    "model.fit(X_train,y_train)"
   ]
  },
  {
   "cell_type": "markdown",
   "id": "c79a7ed0",
   "metadata": {
    "papermill": {
     "duration": 0.00523,
     "end_time": "2023-01-12T19:17:03.140080",
     "exception": false,
     "start_time": "2023-01-12T19:17:03.134850",
     "status": "completed"
    },
    "tags": []
   },
   "source": [
    "import test data"
   ]
  },
  {
   "cell_type": "code",
   "execution_count": 8,
   "id": "0e3d50c5",
   "metadata": {
    "execution": {
     "iopub.execute_input": "2023-01-12T19:17:03.153402Z",
     "iopub.status.busy": "2023-01-12T19:17:03.152641Z",
     "iopub.status.idle": "2023-01-12T19:17:04.338185Z",
     "shell.execute_reply": "2023-01-12T19:17:04.336347Z"
    },
    "papermill": {
     "duration": 1.196196,
     "end_time": "2023-01-12T19:17:04.341999",
     "exception": false,
     "start_time": "2023-01-12T19:17:03.145803",
     "status": "completed"
    },
    "tags": []
   },
   "outputs": [],
   "source": [
    "pred=model.predict(X_test_scaled)"
   ]
  },
  {
   "cell_type": "code",
   "execution_count": 9,
   "id": "6d03261c",
   "metadata": {
    "execution": {
     "iopub.execute_input": "2023-01-12T19:17:04.354474Z",
     "iopub.status.busy": "2023-01-12T19:17:04.353804Z",
     "iopub.status.idle": "2023-01-12T19:17:04.388793Z",
     "shell.execute_reply": "2023-01-12T19:17:04.387459Z"
    },
    "papermill": {
     "duration": 0.044427,
     "end_time": "2023-01-12T19:17:04.391549",
     "exception": false,
     "start_time": "2023-01-12T19:17:04.347122",
     "status": "completed"
    },
    "tags": []
   },
   "outputs": [
    {
     "name": "stdout",
     "output_type": "stream",
     "text": [
      "Successful\n"
     ]
    }
   ],
   "source": [
    "output=pd.DataFrame({'id':test_data.id,'stroke':pred})\n",
    "output.to_csv('submissions.csv',index=False)\n",
    "print(\"Successful\")"
   ]
  },
  {
   "cell_type": "code",
   "execution_count": null,
   "id": "1c42566c",
   "metadata": {
    "papermill": {
     "duration": 0.004707,
     "end_time": "2023-01-12T19:17:04.401515",
     "exception": false,
     "start_time": "2023-01-12T19:17:04.396808",
     "status": "completed"
    },
    "tags": []
   },
   "outputs": [],
   "source": []
  }
 ],
 "metadata": {
  "kernelspec": {
   "display_name": "Python 3",
   "language": "python",
   "name": "python3"
  },
  "language_info": {
   "codemirror_mode": {
    "name": "ipython",
    "version": 3
   },
   "file_extension": ".py",
   "mimetype": "text/x-python",
   "name": "python",
   "nbconvert_exporter": "python",
   "pygments_lexer": "ipython3",
   "version": "3.7.12"
  },
  "papermill": {
   "default_parameters": {},
   "duration": 18.494108,
   "end_time": "2023-01-12T19:17:05.231759",
   "environment_variables": {},
   "exception": null,
   "input_path": "__notebook__.ipynb",
   "output_path": "__notebook__.ipynb",
   "parameters": {},
   "start_time": "2023-01-12T19:16:46.737651",
   "version": "2.3.4"
  }
 },
 "nbformat": 4,
 "nbformat_minor": 5
}
