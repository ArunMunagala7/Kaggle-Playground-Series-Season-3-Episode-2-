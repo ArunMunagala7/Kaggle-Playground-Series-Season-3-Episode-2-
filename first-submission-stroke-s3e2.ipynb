{
 "cells": [
  {
   "cell_type": "code",
   "execution_count": 1,
   "id": "6b7facbc",
   "metadata": {
    "_cell_guid": "b1076dfc-b9ad-4769-8c92-a6c4dae69d19",
    "_uuid": "8f2839f25d086af736a60e9eeb907d3b93b6e0e5",
    "execution": {
     "iopub.execute_input": "2023-01-12T10:50:56.280213Z",
     "iopub.status.busy": "2023-01-12T10:50:56.279765Z",
     "iopub.status.idle": "2023-01-12T10:50:56.292906Z",
     "shell.execute_reply": "2023-01-12T10:50:56.291619Z"
    },
    "papermill": {
     "duration": 0.025464,
     "end_time": "2023-01-12T10:50:56.297618",
     "exception": false,
     "start_time": "2023-01-12T10:50:56.272154",
     "status": "completed"
    },
    "tags": []
   },
   "outputs": [
    {
     "name": "stdout",
     "output_type": "stream",
     "text": [
      "/kaggle/input/playground-series-s3e2/sample_submission.csv\n",
      "/kaggle/input/playground-series-s3e2/train.csv\n",
      "/kaggle/input/playground-series-s3e2/test.csv\n"
     ]
    }
   ],
   "source": [
    "# This Python 3 environment comes with many helpful analytics libraries installed\n",
    "# It is defined by the kaggle/python Docker image: https://github.com/kaggle/docker-python\n",
    "# For example, here's several helpful packages to load\n",
    "\n",
    "import numpy as np # linear algebra\n",
    "import pandas as pd # data processing, CSV file I/O (e.g. pd.read_csv)\n",
    "\n",
    "# Input data files are available in the read-only \"../input/\" directory\n",
    "# For example, running this (by clicking run or pressing Shift+Enter) will list all files under the input directory\n",
    "\n",
    "import os\n",
    "for dirname, _, filenames in os.walk('/kaggle/input'):\n",
    "    for filename in filenames:\n",
    "        print(os.path.join(dirname, filename))\n",
    "\n",
    "# You can write up to 20GB to the current directory (/kaggle/working/) that gets preserved as output when you create a version using \"Save & Run All\" \n",
    "# You can also write temporary files to /kaggle/temp/, but they won't be saved outside of the current session"
   ]
  },
  {
   "cell_type": "markdown",
   "id": "5207daa7",
   "metadata": {
    "papermill": {
     "duration": 0.00446,
     "end_time": "2023-01-12T10:50:56.307114",
     "exception": false,
     "start_time": "2023-01-12T10:50:56.302654",
     "status": "completed"
    },
    "tags": []
   },
   "source": [
    "importing said test data"
   ]
  },
  {
   "cell_type": "code",
   "execution_count": 2,
   "id": "03af0fd8",
   "metadata": {
    "execution": {
     "iopub.execute_input": "2023-01-12T10:50:56.318972Z",
     "iopub.status.busy": "2023-01-12T10:50:56.318356Z",
     "iopub.status.idle": "2023-01-12T10:50:56.395962Z",
     "shell.execute_reply": "2023-01-12T10:50:56.395109Z"
    },
    "papermill": {
     "duration": 0.086328,
     "end_time": "2023-01-12T10:50:56.398267",
     "exception": false,
     "start_time": "2023-01-12T10:50:56.311939",
     "status": "completed"
    },
    "tags": []
   },
   "outputs": [
    {
     "data": {
      "text/html": [
       "<div>\n",
       "<style scoped>\n",
       "    .dataframe tbody tr th:only-of-type {\n",
       "        vertical-align: middle;\n",
       "    }\n",
       "\n",
       "    .dataframe tbody tr th {\n",
       "        vertical-align: top;\n",
       "    }\n",
       "\n",
       "    .dataframe thead th {\n",
       "        text-align: right;\n",
       "    }\n",
       "</style>\n",
       "<table border=\"1\" class=\"dataframe\">\n",
       "  <thead>\n",
       "    <tr style=\"text-align: right;\">\n",
       "      <th></th>\n",
       "      <th>id</th>\n",
       "      <th>gender</th>\n",
       "      <th>age</th>\n",
       "      <th>hypertension</th>\n",
       "      <th>heart_disease</th>\n",
       "      <th>ever_married</th>\n",
       "      <th>work_type</th>\n",
       "      <th>Residence_type</th>\n",
       "      <th>avg_glucose_level</th>\n",
       "      <th>bmi</th>\n",
       "      <th>smoking_status</th>\n",
       "      <th>stroke</th>\n",
       "    </tr>\n",
       "  </thead>\n",
       "  <tbody>\n",
       "    <tr>\n",
       "      <th>0</th>\n",
       "      <td>0</td>\n",
       "      <td>Male</td>\n",
       "      <td>28.0</td>\n",
       "      <td>0</td>\n",
       "      <td>0</td>\n",
       "      <td>Yes</td>\n",
       "      <td>Private</td>\n",
       "      <td>Urban</td>\n",
       "      <td>79.53</td>\n",
       "      <td>31.1</td>\n",
       "      <td>never smoked</td>\n",
       "      <td>0</td>\n",
       "    </tr>\n",
       "    <tr>\n",
       "      <th>1</th>\n",
       "      <td>1</td>\n",
       "      <td>Male</td>\n",
       "      <td>33.0</td>\n",
       "      <td>0</td>\n",
       "      <td>0</td>\n",
       "      <td>Yes</td>\n",
       "      <td>Private</td>\n",
       "      <td>Rural</td>\n",
       "      <td>78.44</td>\n",
       "      <td>23.9</td>\n",
       "      <td>formerly smoked</td>\n",
       "      <td>0</td>\n",
       "    </tr>\n",
       "    <tr>\n",
       "      <th>2</th>\n",
       "      <td>2</td>\n",
       "      <td>Female</td>\n",
       "      <td>42.0</td>\n",
       "      <td>0</td>\n",
       "      <td>0</td>\n",
       "      <td>Yes</td>\n",
       "      <td>Private</td>\n",
       "      <td>Rural</td>\n",
       "      <td>103.00</td>\n",
       "      <td>40.3</td>\n",
       "      <td>Unknown</td>\n",
       "      <td>0</td>\n",
       "    </tr>\n",
       "    <tr>\n",
       "      <th>3</th>\n",
       "      <td>3</td>\n",
       "      <td>Male</td>\n",
       "      <td>56.0</td>\n",
       "      <td>0</td>\n",
       "      <td>0</td>\n",
       "      <td>Yes</td>\n",
       "      <td>Private</td>\n",
       "      <td>Urban</td>\n",
       "      <td>64.87</td>\n",
       "      <td>28.8</td>\n",
       "      <td>never smoked</td>\n",
       "      <td>0</td>\n",
       "    </tr>\n",
       "    <tr>\n",
       "      <th>4</th>\n",
       "      <td>4</td>\n",
       "      <td>Female</td>\n",
       "      <td>24.0</td>\n",
       "      <td>0</td>\n",
       "      <td>0</td>\n",
       "      <td>No</td>\n",
       "      <td>Private</td>\n",
       "      <td>Rural</td>\n",
       "      <td>73.36</td>\n",
       "      <td>28.8</td>\n",
       "      <td>never smoked</td>\n",
       "      <td>0</td>\n",
       "    </tr>\n",
       "  </tbody>\n",
       "</table>\n",
       "</div>"
      ],
      "text/plain": [
       "   id  gender   age  hypertension  heart_disease ever_married work_type  \\\n",
       "0   0    Male  28.0             0              0          Yes   Private   \n",
       "1   1    Male  33.0             0              0          Yes   Private   \n",
       "2   2  Female  42.0             0              0          Yes   Private   \n",
       "3   3    Male  56.0             0              0          Yes   Private   \n",
       "4   4  Female  24.0             0              0           No   Private   \n",
       "\n",
       "  Residence_type  avg_glucose_level   bmi   smoking_status  stroke  \n",
       "0          Urban              79.53  31.1     never smoked       0  \n",
       "1          Rural              78.44  23.9  formerly smoked       0  \n",
       "2          Rural             103.00  40.3          Unknown       0  \n",
       "3          Urban              64.87  28.8     never smoked       0  \n",
       "4          Rural              73.36  28.8     never smoked       0  "
      ]
     },
     "execution_count": 2,
     "metadata": {},
     "output_type": "execute_result"
    }
   ],
   "source": [
    "train_data=pd.read_csv('/kaggle/input/playground-series-s3e2/train.csv')\n",
    "train_data.head()"
   ]
  },
  {
   "cell_type": "code",
   "execution_count": 3,
   "id": "75c56760",
   "metadata": {
    "execution": {
     "iopub.execute_input": "2023-01-12T10:50:56.410656Z",
     "iopub.status.busy": "2023-01-12T10:50:56.410075Z",
     "iopub.status.idle": "2023-01-12T10:50:56.422382Z",
     "shell.execute_reply": "2023-01-12T10:50:56.421355Z"
    },
    "papermill": {
     "duration": 0.021097,
     "end_time": "2023-01-12T10:50:56.424995",
     "exception": false,
     "start_time": "2023-01-12T10:50:56.403898",
     "status": "completed"
    },
    "tags": []
   },
   "outputs": [],
   "source": [
    "X_cat=train_data.select_dtypes(include='object')"
   ]
  },
  {
   "cell_type": "code",
   "execution_count": 4,
   "id": "ae9a88d5",
   "metadata": {
    "execution": {
     "iopub.execute_input": "2023-01-12T10:50:56.436773Z",
     "iopub.status.busy": "2023-01-12T10:50:56.436362Z",
     "iopub.status.idle": "2023-01-12T10:50:56.448361Z",
     "shell.execute_reply": "2023-01-12T10:50:56.447313Z"
    },
    "papermill": {
     "duration": 0.021088,
     "end_time": "2023-01-12T10:50:56.451114",
     "exception": false,
     "start_time": "2023-01-12T10:50:56.430026",
     "status": "completed"
    },
    "tags": []
   },
   "outputs": [
    {
     "data": {
      "text/html": [
       "<div>\n",
       "<style scoped>\n",
       "    .dataframe tbody tr th:only-of-type {\n",
       "        vertical-align: middle;\n",
       "    }\n",
       "\n",
       "    .dataframe tbody tr th {\n",
       "        vertical-align: top;\n",
       "    }\n",
       "\n",
       "    .dataframe thead th {\n",
       "        text-align: right;\n",
       "    }\n",
       "</style>\n",
       "<table border=\"1\" class=\"dataframe\">\n",
       "  <thead>\n",
       "    <tr style=\"text-align: right;\">\n",
       "      <th></th>\n",
       "      <th>gender</th>\n",
       "      <th>ever_married</th>\n",
       "      <th>work_type</th>\n",
       "      <th>Residence_type</th>\n",
       "      <th>smoking_status</th>\n",
       "    </tr>\n",
       "  </thead>\n",
       "  <tbody>\n",
       "    <tr>\n",
       "      <th>0</th>\n",
       "      <td>Male</td>\n",
       "      <td>Yes</td>\n",
       "      <td>Private</td>\n",
       "      <td>Urban</td>\n",
       "      <td>never smoked</td>\n",
       "    </tr>\n",
       "    <tr>\n",
       "      <th>1</th>\n",
       "      <td>Male</td>\n",
       "      <td>Yes</td>\n",
       "      <td>Private</td>\n",
       "      <td>Rural</td>\n",
       "      <td>formerly smoked</td>\n",
       "    </tr>\n",
       "    <tr>\n",
       "      <th>2</th>\n",
       "      <td>Female</td>\n",
       "      <td>Yes</td>\n",
       "      <td>Private</td>\n",
       "      <td>Rural</td>\n",
       "      <td>Unknown</td>\n",
       "    </tr>\n",
       "    <tr>\n",
       "      <th>3</th>\n",
       "      <td>Male</td>\n",
       "      <td>Yes</td>\n",
       "      <td>Private</td>\n",
       "      <td>Urban</td>\n",
       "      <td>never smoked</td>\n",
       "    </tr>\n",
       "    <tr>\n",
       "      <th>4</th>\n",
       "      <td>Female</td>\n",
       "      <td>No</td>\n",
       "      <td>Private</td>\n",
       "      <td>Rural</td>\n",
       "      <td>never smoked</td>\n",
       "    </tr>\n",
       "  </tbody>\n",
       "</table>\n",
       "</div>"
      ],
      "text/plain": [
       "   gender ever_married work_type Residence_type   smoking_status\n",
       "0    Male          Yes   Private          Urban     never smoked\n",
       "1    Male          Yes   Private          Rural  formerly smoked\n",
       "2  Female          Yes   Private          Rural          Unknown\n",
       "3    Male          Yes   Private          Urban     never smoked\n",
       "4  Female           No   Private          Rural     never smoked"
      ]
     },
     "execution_count": 4,
     "metadata": {},
     "output_type": "execute_result"
    }
   ],
   "source": [
    "X_cat.head()"
   ]
  },
  {
   "cell_type": "code",
   "execution_count": 5,
   "id": "12d21821",
   "metadata": {
    "execution": {
     "iopub.execute_input": "2023-01-12T10:50:56.462963Z",
     "iopub.status.busy": "2023-01-12T10:50:56.462273Z",
     "iopub.status.idle": "2023-01-12T10:50:56.484066Z",
     "shell.execute_reply": "2023-01-12T10:50:56.483055Z"
    },
    "papermill": {
     "duration": 0.030756,
     "end_time": "2023-01-12T10:50:56.486843",
     "exception": false,
     "start_time": "2023-01-12T10:50:56.456087",
     "status": "completed"
    },
    "tags": []
   },
   "outputs": [],
   "source": [
    "X_cat_hot=pd.get_dummies(X_cat)\n"
   ]
  },
  {
   "cell_type": "code",
   "execution_count": null,
   "id": "83d1e5e6",
   "metadata": {
    "papermill": {
     "duration": 0.004618,
     "end_time": "2023-01-12T10:50:56.496662",
     "exception": false,
     "start_time": "2023-01-12T10:50:56.492044",
     "status": "completed"
    },
    "tags": []
   },
   "outputs": [],
   "source": []
  },
  {
   "cell_type": "code",
   "execution_count": 6,
   "id": "0e806b18",
   "metadata": {
    "execution": {
     "iopub.execute_input": "2023-01-12T10:50:56.508375Z",
     "iopub.status.busy": "2023-01-12T10:50:56.507984Z",
     "iopub.status.idle": "2023-01-12T10:50:56.521920Z",
     "shell.execute_reply": "2023-01-12T10:50:56.520890Z"
    },
    "papermill": {
     "duration": 0.022755,
     "end_time": "2023-01-12T10:50:56.524196",
     "exception": false,
     "start_time": "2023-01-12T10:50:56.501441",
     "status": "completed"
    },
    "tags": []
   },
   "outputs": [],
   "source": [
    "num=['age','bmi','avg_glucose_level']\n",
    "X_num=train_data[num]\n",
    "X_train_final=pd.concat([X_num,X_cat_hot],axis=0)"
   ]
  },
  {
   "cell_type": "markdown",
   "id": "c71eae44",
   "metadata": {
    "papermill": {
     "duration": 0.004721,
     "end_time": "2023-01-12T10:50:56.534094",
     "exception": false,
     "start_time": "2023-01-12T10:50:56.529373",
     "status": "completed"
    },
    "tags": []
   },
   "source": [
    "lets take out target feature now"
   ]
  },
  {
   "cell_type": "code",
   "execution_count": 7,
   "id": "fa81fc35",
   "metadata": {
    "execution": {
     "iopub.execute_input": "2023-01-12T10:50:56.545883Z",
     "iopub.status.busy": "2023-01-12T10:50:56.545142Z",
     "iopub.status.idle": "2023-01-12T10:50:56.555988Z",
     "shell.execute_reply": "2023-01-12T10:50:56.554903Z"
    },
    "papermill": {
     "duration": 0.019103,
     "end_time": "2023-01-12T10:50:56.558087",
     "exception": false,
     "start_time": "2023-01-12T10:50:56.538984",
     "status": "completed"
    },
    "tags": []
   },
   "outputs": [
    {
     "data": {
      "text/plain": [
       "0    0\n",
       "1    0\n",
       "2    0\n",
       "3    0\n",
       "4    0\n",
       "Name: stroke, dtype: int64"
      ]
     },
     "execution_count": 7,
     "metadata": {},
     "output_type": "execute_result"
    }
   ],
   "source": [
    "X=train_data.copy()\n",
    "y_train=X.pop('stroke')\n",
    "y_train.head()"
   ]
  },
  {
   "cell_type": "markdown",
   "id": "bb1ee049",
   "metadata": {
    "papermill": {
     "duration": 0.005067,
     "end_time": "2023-01-12T10:50:56.568449",
     "exception": false,
     "start_time": "2023-01-12T10:50:56.563382",
     "status": "completed"
    },
    "tags": []
   },
   "source": [
    "X_train"
   ]
  },
  {
   "cell_type": "code",
   "execution_count": 8,
   "id": "269376b7",
   "metadata": {
    "execution": {
     "iopub.execute_input": "2023-01-12T10:50:56.580719Z",
     "iopub.status.busy": "2023-01-12T10:50:56.580042Z",
     "iopub.status.idle": "2023-01-12T10:50:59.903002Z",
     "shell.execute_reply": "2023-01-12T10:50:59.901533Z"
    },
    "papermill": {
     "duration": 3.332252,
     "end_time": "2023-01-12T10:50:59.905919",
     "exception": false,
     "start_time": "2023-01-12T10:50:56.573667",
     "status": "completed"
    },
    "tags": []
   },
   "outputs": [
    {
     "data": {
      "text/plain": [
       "RandomForestRegressor()"
      ]
     },
     "execution_count": 8,
     "metadata": {},
     "output_type": "execute_result"
    }
   ],
   "source": [
    "from sklearn.ensemble import RandomForestRegressor\n",
    "model=RandomForestRegressor()\n",
    "model.fit(X_num,y_train)"
   ]
  },
  {
   "cell_type": "markdown",
   "id": "c4333ecd",
   "metadata": {
    "papermill": {
     "duration": 0.005051,
     "end_time": "2023-01-12T10:50:59.916433",
     "exception": false,
     "start_time": "2023-01-12T10:50:59.911382",
     "status": "completed"
    },
    "tags": []
   },
   "source": [
    "import test data"
   ]
  },
  {
   "cell_type": "code",
   "execution_count": 9,
   "id": "bdf6afbc",
   "metadata": {
    "execution": {
     "iopub.execute_input": "2023-01-12T10:50:59.931810Z",
     "iopub.status.busy": "2023-01-12T10:50:59.931160Z",
     "iopub.status.idle": "2023-01-12T10:50:59.973297Z",
     "shell.execute_reply": "2023-01-12T10:50:59.972038Z"
    },
    "papermill": {
     "duration": 0.053468,
     "end_time": "2023-01-12T10:50:59.976500",
     "exception": false,
     "start_time": "2023-01-12T10:50:59.923032",
     "status": "completed"
    },
    "tags": []
   },
   "outputs": [],
   "source": [
    "X_test=pd.read_csv('/kaggle/input/playground-series-s3e2/test.csv')\n",
    "X_test.head()\n",
    "test_data=X_test.copy()"
   ]
  },
  {
   "cell_type": "code",
   "execution_count": 10,
   "id": "b5190054",
   "metadata": {
    "execution": {
     "iopub.execute_input": "2023-01-12T10:50:59.992442Z",
     "iopub.status.busy": "2023-01-12T10:50:59.992046Z",
     "iopub.status.idle": "2023-01-12T10:51:00.108413Z",
     "shell.execute_reply": "2023-01-12T10:51:00.107346Z"
    },
    "papermill": {
     "duration": 0.127066,
     "end_time": "2023-01-12T10:51:00.111428",
     "exception": false,
     "start_time": "2023-01-12T10:50:59.984362",
     "status": "completed"
    },
    "tags": []
   },
   "outputs": [],
   "source": [
    "X_test=X_test[num]\n",
    "pred=model.predict(X_test)"
   ]
  },
  {
   "cell_type": "code",
   "execution_count": 11,
   "id": "be11f90e",
   "metadata": {
    "execution": {
     "iopub.execute_input": "2023-01-12T10:51:00.125352Z",
     "iopub.status.busy": "2023-01-12T10:51:00.124954Z",
     "iopub.status.idle": "2023-01-12T10:51:00.143282Z",
     "shell.execute_reply": "2023-01-12T10:51:00.141942Z"
    },
    "papermill": {
     "duration": 0.027371,
     "end_time": "2023-01-12T10:51:00.145702",
     "exception": false,
     "start_time": "2023-01-12T10:51:00.118331",
     "status": "completed"
    },
    "tags": []
   },
   "outputs": [
    {
     "data": {
      "text/html": [
       "<div>\n",
       "<style scoped>\n",
       "    .dataframe tbody tr th:only-of-type {\n",
       "        vertical-align: middle;\n",
       "    }\n",
       "\n",
       "    .dataframe tbody tr th {\n",
       "        vertical-align: top;\n",
       "    }\n",
       "\n",
       "    .dataframe thead th {\n",
       "        text-align: right;\n",
       "    }\n",
       "</style>\n",
       "<table border=\"1\" class=\"dataframe\">\n",
       "  <thead>\n",
       "    <tr style=\"text-align: right;\">\n",
       "      <th></th>\n",
       "      <th>id</th>\n",
       "      <th>gender</th>\n",
       "      <th>age</th>\n",
       "      <th>hypertension</th>\n",
       "      <th>heart_disease</th>\n",
       "      <th>ever_married</th>\n",
       "      <th>work_type</th>\n",
       "      <th>Residence_type</th>\n",
       "      <th>avg_glucose_level</th>\n",
       "      <th>bmi</th>\n",
       "      <th>smoking_status</th>\n",
       "    </tr>\n",
       "  </thead>\n",
       "  <tbody>\n",
       "    <tr>\n",
       "      <th>0</th>\n",
       "      <td>15304</td>\n",
       "      <td>Female</td>\n",
       "      <td>57.0</td>\n",
       "      <td>0</td>\n",
       "      <td>0</td>\n",
       "      <td>Yes</td>\n",
       "      <td>Private</td>\n",
       "      <td>Rural</td>\n",
       "      <td>82.54</td>\n",
       "      <td>33.4</td>\n",
       "      <td>Unknown</td>\n",
       "    </tr>\n",
       "    <tr>\n",
       "      <th>1</th>\n",
       "      <td>15305</td>\n",
       "      <td>Male</td>\n",
       "      <td>70.0</td>\n",
       "      <td>1</td>\n",
       "      <td>0</td>\n",
       "      <td>Yes</td>\n",
       "      <td>Private</td>\n",
       "      <td>Urban</td>\n",
       "      <td>72.06</td>\n",
       "      <td>28.5</td>\n",
       "      <td>Unknown</td>\n",
       "    </tr>\n",
       "    <tr>\n",
       "      <th>2</th>\n",
       "      <td>15306</td>\n",
       "      <td>Female</td>\n",
       "      <td>5.0</td>\n",
       "      <td>0</td>\n",
       "      <td>0</td>\n",
       "      <td>No</td>\n",
       "      <td>children</td>\n",
       "      <td>Urban</td>\n",
       "      <td>103.72</td>\n",
       "      <td>19.5</td>\n",
       "      <td>Unknown</td>\n",
       "    </tr>\n",
       "    <tr>\n",
       "      <th>3</th>\n",
       "      <td>15307</td>\n",
       "      <td>Female</td>\n",
       "      <td>56.0</td>\n",
       "      <td>0</td>\n",
       "      <td>0</td>\n",
       "      <td>Yes</td>\n",
       "      <td>Govt_job</td>\n",
       "      <td>Urban</td>\n",
       "      <td>69.24</td>\n",
       "      <td>41.4</td>\n",
       "      <td>smokes</td>\n",
       "    </tr>\n",
       "    <tr>\n",
       "      <th>4</th>\n",
       "      <td>15308</td>\n",
       "      <td>Male</td>\n",
       "      <td>32.0</td>\n",
       "      <td>0</td>\n",
       "      <td>0</td>\n",
       "      <td>Yes</td>\n",
       "      <td>Private</td>\n",
       "      <td>Rural</td>\n",
       "      <td>111.15</td>\n",
       "      <td>30.1</td>\n",
       "      <td>smokes</td>\n",
       "    </tr>\n",
       "  </tbody>\n",
       "</table>\n",
       "</div>"
      ],
      "text/plain": [
       "      id  gender   age  hypertension  heart_disease ever_married work_type  \\\n",
       "0  15304  Female  57.0             0              0          Yes   Private   \n",
       "1  15305    Male  70.0             1              0          Yes   Private   \n",
       "2  15306  Female   5.0             0              0           No  children   \n",
       "3  15307  Female  56.0             0              0          Yes  Govt_job   \n",
       "4  15308    Male  32.0             0              0          Yes   Private   \n",
       "\n",
       "  Residence_type  avg_glucose_level   bmi smoking_status  \n",
       "0          Rural              82.54  33.4        Unknown  \n",
       "1          Urban              72.06  28.5        Unknown  \n",
       "2          Urban             103.72  19.5        Unknown  \n",
       "3          Urban              69.24  41.4         smokes  \n",
       "4          Rural             111.15  30.1         smokes  "
      ]
     },
     "execution_count": 11,
     "metadata": {},
     "output_type": "execute_result"
    }
   ],
   "source": [
    "test_data.head()"
   ]
  },
  {
   "cell_type": "code",
   "execution_count": 12,
   "id": "2a625258",
   "metadata": {
    "execution": {
     "iopub.execute_input": "2023-01-12T10:51:00.159249Z",
     "iopub.status.busy": "2023-01-12T10:51:00.158842Z",
     "iopub.status.idle": "2023-01-12T10:51:00.185317Z",
     "shell.execute_reply": "2023-01-12T10:51:00.184298Z"
    },
    "papermill": {
     "duration": 0.036218,
     "end_time": "2023-01-12T10:51:00.188096",
     "exception": false,
     "start_time": "2023-01-12T10:51:00.151878",
     "status": "completed"
    },
    "tags": []
   },
   "outputs": [
    {
     "name": "stdout",
     "output_type": "stream",
     "text": [
      "Successful\n"
     ]
    }
   ],
   "source": [
    "output=pd.DataFrame({'id':test_data.id,'stroke':pred})\n",
    "output.to_csv('submissions.csv',index=False)\n",
    "print(\"Successful\")"
   ]
  },
  {
   "cell_type": "code",
   "execution_count": null,
   "id": "bf2409c1",
   "metadata": {
    "papermill": {
     "duration": 0.005202,
     "end_time": "2023-01-12T10:51:00.198901",
     "exception": false,
     "start_time": "2023-01-12T10:51:00.193699",
     "status": "completed"
    },
    "tags": []
   },
   "outputs": [],
   "source": []
  }
 ],
 "metadata": {
  "kernelspec": {
   "display_name": "Python 3",
   "language": "python",
   "name": "python3"
  },
  "language_info": {
   "codemirror_mode": {
    "name": "ipython",
    "version": 3
   },
   "file_extension": ".py",
   "mimetype": "text/x-python",
   "name": "python",
   "nbconvert_exporter": "python",
   "pygments_lexer": "ipython3",
   "version": "3.7.12"
  },
  "papermill": {
   "default_parameters": {},
   "duration": 13.122442,
   "end_time": "2023-01-12T10:51:00.926954",
   "environment_variables": {},
   "exception": null,
   "input_path": "__notebook__.ipynb",
   "output_path": "__notebook__.ipynb",
   "parameters": {},
   "start_time": "2023-01-12T10:50:47.804512",
   "version": "2.3.4"
  }
 },
 "nbformat": 4,
 "nbformat_minor": 5
}
